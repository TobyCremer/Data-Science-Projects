{
 "cells": [
  {
   "cell_type": "markdown",
   "metadata": {},
   "source": [
    "# Dan Murphy Whisky"
   ]
  },
  {
   "cell_type": "code",
   "execution_count": 2,
   "metadata": {},
   "outputs": [],
   "source": [
    "# Import Statments\n",
    "import numpy as np\n",
    "import pandas as pd\n",
    "import requests\n",
    "from random import randint\n",
    "from bs4 import BeautifulSoup\n",
    "from time import sleep\n",
    "import itertools\n",
    "import lxml\n",
    "from selenium import webdriver\n",
    "from selenium.webdriver.common.by import By \n",
    "from selenium.webdriver.support.ui import WebDriverWait \n",
    "from selenium.webdriver.support import expected_conditions as EC \n",
    "from selenium.common.exceptions import TimeoutException"
   ]
  },
  {
   "cell_type": "markdown",
   "metadata": {},
   "source": [
    "## Web Scrapping Functions"
   ]
  },
  {
   "cell_type": "code",
   "execution_count": 152,
   "metadata": {},
   "outputs": [],
   "source": [
    "def dan_scrapper(link):\n",
    "    \n",
    "    option = webdriver.ChromeOptions()\n",
    "    option.add_argument(\" — incognito\")\n",
    "    driver = webdriver.Chrome(executable_path = \"./chromedriver\", chrome_options = option)\n",
    "    \n",
    "    link = link\n",
    "    \n",
    "    driver.get(link)\n",
    "    \n",
    "    name = []\n",
    "    description = []\n",
    "    price = []\n",
    "    link = []\n",
    "\n",
    "    for n in range(1,121):\n",
    "        \n",
    "        try:\n",
    "            name.append(driver.find_element_by_xpath('//*[@id=\"results\"]/div[1]/div[2]/search-results/div/ul/li['+str(n)+']/shop-product-card/div/section/div[3]/h2/a/span[1]').text)\n",
    "        except:\n",
    "            name.append('none_found')\n",
    "        try:\n",
    "            description.append(driver.find_element_by_xpath('//*[@id=\"results\"]/div[1]/div[2]/search-results/div/ul/li['+str(n)+']/shop-product-card/div/section/div[3]/h2/a/span[2]').text)\n",
    "        except: \n",
    "            description.append('none_found')\n",
    "        try:\n",
    "            price.append(driver.find_element_by_xpath('//*[@id=\"results\"]/div[1]/div[2]/search-results/div/ul/li['+str(n)+']').text.split('$')[1:2])\n",
    "        except:\n",
    "            price.append('none_found')\n",
    "        try:\n",
    "            link.append(driver.find_element_by_xpath('//*[@id=\"results\"]/div[1]/div[2]/search-results/div/ul/li['+str(n)+']/shop-product-card/div/section/div[3]/h2/a').get_attribute('href'))\n",
    "        except:\n",
    "            link.append('none_found')\n",
    "            \n",
    "            \n",
    "    df = pd.DataFrame({'name':name, 'description':description, 'price':price, 'links':link})\n",
    "    \n",
    "    \n",
    "    return df"
   ]
  },
  {
   "cell_type": "code",
   "execution_count": 423,
   "metadata": {},
   "outputs": [],
   "source": [
    "def dans_page_scrapper():\n",
    "\n",
    "    product_details = []\n",
    "    variatal = []\n",
    "    size = []\n",
    "    region = []\n",
    "    vintage = []\n",
    "    standard_drinks = []\n",
    "    alcohol_volumne = []\n",
    "    country = []\n",
    "    brand = []\n",
    "    closure = []\n",
    "    style = []\n",
    "    \n",
    "    counter = 1\n",
    "    \n",
    "    for link in dans['links']:\n",
    "        \n",
    "        driver.get(link)\n",
    "        \n",
    "        driver.implicitly_wait(3)\n",
    "        \n",
    "        counter += 1\n",
    "      \n",
    "        try:\n",
    "            product_details.append(driver.find_element_by_xpath('//*[@id=\"main-content\"]/div/shop-product-detail/div/section/div[3]/div[1]/div[2]').text)\n",
    "        except:\n",
    "            product_details.append('no_information')\n",
    "        try:\n",
    "            variatal.append(driver.find_element_by_xpath('//*[@id=\"main-content\"]/div/shop-product-detail/div/section/div[3]/div[2]/div/ul/li[1]/span[2]').text)\n",
    "        except:\n",
    "            variatal.append('no_information')\n",
    "        try:\n",
    "            size.append(driver.find_element_by_xpath('//*[@id=\"main-content\"]/div/shop-product-detail/div/section/div[3]/div[2]/div/ul/li[2]/span[2]').text)\n",
    "        except:\n",
    "            size.append('no_information')\n",
    "        try:\n",
    "            region.append(driver.find_element_by_xpath('//*[@id=\"main-content\"]/div/shop-product-detail/div/section/div[3]/div[2]/div/ul/li[3]/span[2]').text)\n",
    "        except:\n",
    "            region.append('no_information')\n",
    "        try:\n",
    "            vintage.append(driver.find_element_by_xpath('//*[@id=\"main-content\"]/div/shop-product-detail/div/section/div[3]/div[2]/div/ul/li[4]/span[2]').text)\n",
    "        except:\n",
    "            vintage.append('no_information')\n",
    "        try:\n",
    "            standard_drinks.append(driver.find_element_by_xpath('//*[@id=\"main-content\"]/div/shop-product-detail/div/section/div[3]/div[2]/div/ul/li[5]/span[2]').text)\n",
    "        except:\n",
    "            standard_drinks.append('no_information')\n",
    "        try:\n",
    "            alcohol_volumne.append(driver.find_element_by_xpath('//*[@id=\"main-content\"]/div/shop-product-detail/div/section/div[3]/div[2]/div/ul/li[6]/span[2]').text)\n",
    "        except:\n",
    "            alcohol_volumne.append('no_information')\n",
    "        try:   \n",
    "            country.append(driver.find_element_by_xpath('//*[@id=\"main-content\"]/div/shop-product-detail/div/section/div[3]/div[2]/div/ul/li[7]/span[2]').text)\n",
    "        except:\n",
    "            country.append('no_information')\n",
    "        try:\n",
    "            brand.append(driver.find_element_by_xpath('//*[@id=\"main-content\"]/div/shop-product-detail/div/section/div[3]/div[2]/div/ul/li[8]/span[2]').text)\n",
    "        except:\n",
    "            brand.append('no_information')\n",
    "        try:\n",
    "            closure.append(driver.find_element_by_xpath('//*[@id=\"main-content\"]/div/shop-product-detail/div/section/div[3]/div[2]/div/ul/li[9]/span[2]').text)\n",
    "        except:\n",
    "            closure.append('no_information')\n",
    "        try:\n",
    "            style.append(driver.find_element_by_xpath('//*[@id=\"main-content\"]/div/shop-product-detail/div/section/div[3]/div[2]/div/ul/li[10]/span[2]').text)\n",
    "        except:\n",
    "            style.append('no_information')\n",
    "            \n",
    "        print('Page Counter:', counter)\n",
    "            \n",
    "    df = pd.DataFrame({'product_details':product_details,\n",
    "                      'variatal':variatal,\n",
    "                      'size':size,\n",
    "                      'region':region,\n",
    "                      'vintage':vintage,\n",
    "                      'standard_drinks':standard_drinks,\n",
    "                      'alcohol_volumne':alcohol_volumne,\n",
    "                      'country':country,\n",
    "                      'brand':brand,\n",
    "                      'closure':closure,\n",
    "                      'style':style})\n",
    "    \n",
    "    return df"
   ]
  },
  {
   "cell_type": "markdown",
   "metadata": {},
   "source": [
    "## Combining DataFrames"
   ]
  },
  {
   "cell_type": "code",
   "execution_count": 1360,
   "metadata": {},
   "outputs": [
    {
     "name": "stdout",
     "output_type": "stream",
     "text": [
      "(422, 4)\n"
     ]
    },
    {
     "data": {
      "text/html": [
       "<div>\n",
       "<style scoped>\n",
       "    .dataframe tbody tr th:only-of-type {\n",
       "        vertical-align: middle;\n",
       "    }\n",
       "\n",
       "    .dataframe tbody tr th {\n",
       "        vertical-align: top;\n",
       "    }\n",
       "\n",
       "    .dataframe thead th {\n",
       "        text-align: right;\n",
       "    }\n",
       "</style>\n",
       "<table border=\"1\" class=\"dataframe\">\n",
       "  <thead>\n",
       "    <tr style=\"text-align: right;\">\n",
       "      <th></th>\n",
       "      <th>name</th>\n",
       "      <th>description</th>\n",
       "      <th>price</th>\n",
       "      <th>links</th>\n",
       "    </tr>\n",
       "  </thead>\n",
       "  <tbody>\n",
       "    <tr>\n",
       "      <td>0</td>\n",
       "      <td>Laphroaig</td>\n",
       "      <td>Quarter Cask Scotch Whisky 700mL</td>\n",
       "      <td>84.95</td>\n",
       "      <td>https://www.danmurphys.com.au/product/DM_91660...</td>\n",
       "    </tr>\n",
       "    <tr>\n",
       "      <td>1</td>\n",
       "      <td>Laphroaig</td>\n",
       "      <td>10 Year Old Single Malt Scotch Whisky 700mL</td>\n",
       "      <td>79.95</td>\n",
       "      <td>https://www.danmurphys.com.au/product/DM_5512/...</td>\n",
       "    </tr>\n",
       "    <tr>\n",
       "      <td>2</td>\n",
       "      <td>Glenfarclas</td>\n",
       "      <td>15 Year Old Single Malt Scotch Whisky 700mL</td>\n",
       "      <td>109.95</td>\n",
       "      <td>https://www.danmurphys.com.au/product/DM_14392...</td>\n",
       "    </tr>\n",
       "  </tbody>\n",
       "</table>\n",
       "</div>"
      ],
      "text/plain": [
       "          name                                  description   price  \\\n",
       "0    Laphroaig             Quarter Cask Scotch Whisky 700mL   84.95   \n",
       "1    Laphroaig  10 Year Old Single Malt Scotch Whisky 700mL   79.95   \n",
       "2  Glenfarclas  15 Year Old Single Malt Scotch Whisky 700mL  109.95   \n",
       "\n",
       "                                               links  \n",
       "0  https://www.danmurphys.com.au/product/DM_91660...  \n",
       "1  https://www.danmurphys.com.au/product/DM_5512/...  \n",
       "2  https://www.danmurphys.com.au/product/DM_14392...  "
      ]
     },
     "execution_count": 1360,
     "metadata": {},
     "output_type": "execute_result"
    }
   ],
   "source": [
    "dans = pd.read_csv('./danmurphys.csv', index_col=0)\n",
    "print(dans.shape)\n",
    "dans.reset_index(inplace=True)\n",
    "dans.drop(['index'], axis=1, inplace=True)\n",
    "dans.head(3)"
   ]
  },
  {
   "cell_type": "code",
   "execution_count": 1361,
   "metadata": {},
   "outputs": [
    {
     "data": {
      "text/html": [
       "<div>\n",
       "<style scoped>\n",
       "    .dataframe tbody tr th:only-of-type {\n",
       "        vertical-align: middle;\n",
       "    }\n",
       "\n",
       "    .dataframe tbody tr th {\n",
       "        vertical-align: top;\n",
       "    }\n",
       "\n",
       "    .dataframe thead th {\n",
       "        text-align: right;\n",
       "    }\n",
       "</style>\n",
       "<table border=\"1\" class=\"dataframe\">\n",
       "  <thead>\n",
       "    <tr style=\"text-align: right;\">\n",
       "      <th></th>\n",
       "      <th>product_details</th>\n",
       "      <th>variatal</th>\n",
       "      <th>size</th>\n",
       "      <th>region</th>\n",
       "      <th>vintage</th>\n",
       "      <th>standard_drinks</th>\n",
       "      <th>alcohol_volumne</th>\n",
       "      <th>country</th>\n",
       "      <th>brand</th>\n",
       "      <th>closure</th>\n",
       "      <th>style</th>\n",
       "    </tr>\n",
       "  </thead>\n",
       "  <tbody>\n",
       "    <tr>\n",
       "      <td>0</td>\n",
       "      <td>The Quarter Cask is a strong, double cask matu...</td>\n",
       "      <td>Scotch Whisky</td>\n",
       "      <td>700mL</td>\n",
       "      <td>Islay</td>\n",
       "      <td>Laphroaig Quarter Cask</td>\n",
       "      <td>26.5</td>\n",
       "      <td>48.00%</td>\n",
       "      <td>Scotland</td>\n",
       "      <td>Laphroaig</td>\n",
       "      <td>Cork</td>\n",
       "      <td>Single Malt</td>\n",
       "    </tr>\n",
       "    <tr>\n",
       "      <td>1</td>\n",
       "      <td>Laphroaig, founded in 1815 by brothers Donald ...</td>\n",
       "      <td>Scotch Whisky</td>\n",
       "      <td>700mL</td>\n",
       "      <td>Islay</td>\n",
       "      <td>Laphroaig 10 Year Old Single Malt Whisky</td>\n",
       "      <td>22</td>\n",
       "      <td>40.00%</td>\n",
       "      <td>Scotland</td>\n",
       "      <td>10 Year Old</td>\n",
       "      <td>NaN</td>\n",
       "      <td>NaN</td>\n",
       "    </tr>\n",
       "    <tr>\n",
       "      <td>2</td>\n",
       "      <td>15 Year Old Single Malt Scotch Whisky 700mL</td>\n",
       "      <td>Scotch Whisky</td>\n",
       "      <td>700mL</td>\n",
       "      <td>Speyside</td>\n",
       "      <td>Glenfarclas 15 Year Old Single Malt Highland W...</td>\n",
       "      <td>25</td>\n",
       "      <td>46.00%</td>\n",
       "      <td>NaN</td>\n",
       "      <td>NaN</td>\n",
       "      <td>NaN</td>\n",
       "      <td>NaN</td>\n",
       "    </tr>\n",
       "  </tbody>\n",
       "</table>\n",
       "</div>"
      ],
      "text/plain": [
       "                                     product_details       variatal   size  \\\n",
       "0  The Quarter Cask is a strong, double cask matu...  Scotch Whisky  700mL   \n",
       "1  Laphroaig, founded in 1815 by brothers Donald ...  Scotch Whisky  700mL   \n",
       "2        15 Year Old Single Malt Scotch Whisky 700mL  Scotch Whisky  700mL   \n",
       "\n",
       "     region                                            vintage  \\\n",
       "0     Islay                             Laphroaig Quarter Cask   \n",
       "1     Islay           Laphroaig 10 Year Old Single Malt Whisky   \n",
       "2  Speyside  Glenfarclas 15 Year Old Single Malt Highland W...   \n",
       "\n",
       "  standard_drinks alcohol_volumne   country        brand closure        style  \n",
       "0            26.5          48.00%  Scotland    Laphroaig    Cork  Single Malt  \n",
       "1              22          40.00%  Scotland  10 Year Old     NaN          NaN  \n",
       "2              25          46.00%       NaN          NaN     NaN          NaN  "
      ]
     },
     "execution_count": 1361,
     "metadata": {},
     "output_type": "execute_result"
    }
   ],
   "source": [
    "pages = pd.read_csv('./data.csv', index_col=0)\n",
    "pages.head(3)"
   ]
  },
  {
   "cell_type": "code",
   "execution_count": 1362,
   "metadata": {},
   "outputs": [
    {
     "data": {
      "text/html": [
       "<div>\n",
       "<style scoped>\n",
       "    .dataframe tbody tr th:only-of-type {\n",
       "        vertical-align: middle;\n",
       "    }\n",
       "\n",
       "    .dataframe tbody tr th {\n",
       "        vertical-align: top;\n",
       "    }\n",
       "\n",
       "    .dataframe thead th {\n",
       "        text-align: right;\n",
       "    }\n",
       "</style>\n",
       "<table border=\"1\" class=\"dataframe\">\n",
       "  <thead>\n",
       "    <tr style=\"text-align: right;\">\n",
       "      <th></th>\n",
       "      <th>name</th>\n",
       "      <th>description</th>\n",
       "      <th>price</th>\n",
       "      <th>links</th>\n",
       "      <th>product_details</th>\n",
       "      <th>variatal</th>\n",
       "      <th>size</th>\n",
       "      <th>region</th>\n",
       "      <th>vintage</th>\n",
       "      <th>standard_drinks</th>\n",
       "      <th>alcohol_volumne</th>\n",
       "      <th>country</th>\n",
       "      <th>brand</th>\n",
       "      <th>closure</th>\n",
       "      <th>style</th>\n",
       "    </tr>\n",
       "  </thead>\n",
       "  <tbody>\n",
       "    <tr>\n",
       "      <td>0</td>\n",
       "      <td>Laphroaig</td>\n",
       "      <td>Quarter Cask Scotch Whisky 700mL</td>\n",
       "      <td>84.95</td>\n",
       "      <td>https://www.danmurphys.com.au/product/DM_91660...</td>\n",
       "      <td>The Quarter Cask is a strong, double cask matu...</td>\n",
       "      <td>Scotch Whisky</td>\n",
       "      <td>700mL</td>\n",
       "      <td>Islay</td>\n",
       "      <td>Laphroaig Quarter Cask</td>\n",
       "      <td>26.5</td>\n",
       "      <td>48.00%</td>\n",
       "      <td>Scotland</td>\n",
       "      <td>Laphroaig</td>\n",
       "      <td>Cork</td>\n",
       "      <td>Single Malt</td>\n",
       "    </tr>\n",
       "    <tr>\n",
       "      <td>1</td>\n",
       "      <td>Laphroaig</td>\n",
       "      <td>10 Year Old Single Malt Scotch Whisky 700mL</td>\n",
       "      <td>79.95</td>\n",
       "      <td>https://www.danmurphys.com.au/product/DM_5512/...</td>\n",
       "      <td>Laphroaig, founded in 1815 by brothers Donald ...</td>\n",
       "      <td>Scotch Whisky</td>\n",
       "      <td>700mL</td>\n",
       "      <td>Islay</td>\n",
       "      <td>Laphroaig 10 Year Old Single Malt Whisky</td>\n",
       "      <td>22</td>\n",
       "      <td>40.00%</td>\n",
       "      <td>Scotland</td>\n",
       "      <td>10 Year Old</td>\n",
       "      <td>NaN</td>\n",
       "      <td>NaN</td>\n",
       "    </tr>\n",
       "    <tr>\n",
       "      <td>2</td>\n",
       "      <td>Glenfarclas</td>\n",
       "      <td>15 Year Old Single Malt Scotch Whisky 700mL</td>\n",
       "      <td>109.95</td>\n",
       "      <td>https://www.danmurphys.com.au/product/DM_14392...</td>\n",
       "      <td>15 Year Old Single Malt Scotch Whisky 700mL</td>\n",
       "      <td>Scotch Whisky</td>\n",
       "      <td>700mL</td>\n",
       "      <td>Speyside</td>\n",
       "      <td>Glenfarclas 15 Year Old Single Malt Highland W...</td>\n",
       "      <td>25</td>\n",
       "      <td>46.00%</td>\n",
       "      <td>NaN</td>\n",
       "      <td>NaN</td>\n",
       "      <td>NaN</td>\n",
       "      <td>NaN</td>\n",
       "    </tr>\n",
       "  </tbody>\n",
       "</table>\n",
       "</div>"
      ],
      "text/plain": [
       "          name                                  description   price  \\\n",
       "0    Laphroaig             Quarter Cask Scotch Whisky 700mL   84.95   \n",
       "1    Laphroaig  10 Year Old Single Malt Scotch Whisky 700mL   79.95   \n",
       "2  Glenfarclas  15 Year Old Single Malt Scotch Whisky 700mL  109.95   \n",
       "\n",
       "                                               links  \\\n",
       "0  https://www.danmurphys.com.au/product/DM_91660...   \n",
       "1  https://www.danmurphys.com.au/product/DM_5512/...   \n",
       "2  https://www.danmurphys.com.au/product/DM_14392...   \n",
       "\n",
       "                                     product_details       variatal   size  \\\n",
       "0  The Quarter Cask is a strong, double cask matu...  Scotch Whisky  700mL   \n",
       "1  Laphroaig, founded in 1815 by brothers Donald ...  Scotch Whisky  700mL   \n",
       "2        15 Year Old Single Malt Scotch Whisky 700mL  Scotch Whisky  700mL   \n",
       "\n",
       "     region                                            vintage  \\\n",
       "0     Islay                             Laphroaig Quarter Cask   \n",
       "1     Islay           Laphroaig 10 Year Old Single Malt Whisky   \n",
       "2  Speyside  Glenfarclas 15 Year Old Single Malt Highland W...   \n",
       "\n",
       "  standard_drinks alcohol_volumne   country        brand closure        style  \n",
       "0            26.5          48.00%  Scotland    Laphroaig    Cork  Single Malt  \n",
       "1              22          40.00%  Scotland  10 Year Old     NaN          NaN  \n",
       "2              25          46.00%       NaN          NaN     NaN          NaN  "
      ]
     },
     "execution_count": 1362,
     "metadata": {},
     "output_type": "execute_result"
    }
   ],
   "source": [
    "whisky = pd.concat([dans, pages], axis=1)\n",
    "whisky.head(3)"
   ]
  },
  {
   "cell_type": "code",
   "execution_count": 1363,
   "metadata": {},
   "outputs": [],
   "source": [
    "whisky.to_csv('./whisky.csv')"
   ]
  },
  {
   "cell_type": "markdown",
   "metadata": {},
   "source": [
    "## Data Cleaning"
   ]
  },
  {
   "cell_type": "code",
   "execution_count": 4,
   "metadata": {},
   "outputs": [
    {
     "data": {
      "text/html": [
       "<div>\n",
       "<style scoped>\n",
       "    .dataframe tbody tr th:only-of-type {\n",
       "        vertical-align: middle;\n",
       "    }\n",
       "\n",
       "    .dataframe tbody tr th {\n",
       "        vertical-align: top;\n",
       "    }\n",
       "\n",
       "    .dataframe thead th {\n",
       "        text-align: right;\n",
       "    }\n",
       "</style>\n",
       "<table border=\"1\" class=\"dataframe\">\n",
       "  <thead>\n",
       "    <tr style=\"text-align: right;\">\n",
       "      <th></th>\n",
       "      <th>name</th>\n",
       "      <th>description</th>\n",
       "      <th>price</th>\n",
       "      <th>links</th>\n",
       "      <th>product_details</th>\n",
       "      <th>variatal</th>\n",
       "      <th>size</th>\n",
       "      <th>region</th>\n",
       "      <th>vintage</th>\n",
       "      <th>standard_drinks</th>\n",
       "      <th>alcohol_volumne</th>\n",
       "      <th>country</th>\n",
       "      <th>closure</th>\n",
       "    </tr>\n",
       "  </thead>\n",
       "  <tbody>\n",
       "    <tr>\n",
       "      <td>0</td>\n",
       "      <td>laphroaig</td>\n",
       "      <td>quarter cask scotch whisky 700ml</td>\n",
       "      <td>84.95</td>\n",
       "      <td>https://www.danmurphys.com.au/product/DM_91660...</td>\n",
       "      <td>the quarter cask is a strong, double cask matu...</td>\n",
       "      <td>single malt</td>\n",
       "      <td>700.0</td>\n",
       "      <td>islay</td>\n",
       "      <td>laphroaig quarter cask</td>\n",
       "      <td>26.5</td>\n",
       "      <td>48.00%</td>\n",
       "      <td>scotland</td>\n",
       "      <td>cork</td>\n",
       "    </tr>\n",
       "    <tr>\n",
       "      <td>1</td>\n",
       "      <td>laphroaig</td>\n",
       "      <td>10 year old single malt scotch whisky 700ml</td>\n",
       "      <td>79.95</td>\n",
       "      <td>https://www.danmurphys.com.au/product/DM_5512/...</td>\n",
       "      <td>laphroaig, founded in 1815 by brothers donald ...</td>\n",
       "      <td>single malt</td>\n",
       "      <td>700.0</td>\n",
       "      <td>islay</td>\n",
       "      <td>laphroaig 10 year old single malt whisky</td>\n",
       "      <td>22</td>\n",
       "      <td>40.00%</td>\n",
       "      <td>scotland</td>\n",
       "      <td>unknown</td>\n",
       "    </tr>\n",
       "    <tr>\n",
       "      <td>2</td>\n",
       "      <td>glenfarclas</td>\n",
       "      <td>15 year old single malt scotch whisky 700ml</td>\n",
       "      <td>109.95</td>\n",
       "      <td>https://www.danmurphys.com.au/product/DM_14392...</td>\n",
       "      <td>15 year old single malt scotch whisky 700ml</td>\n",
       "      <td>single malt</td>\n",
       "      <td>700.0</td>\n",
       "      <td>highland</td>\n",
       "      <td>glenfarclas 15 year old single malt highland w...</td>\n",
       "      <td>25</td>\n",
       "      <td>46.00%</td>\n",
       "      <td>NaN</td>\n",
       "      <td>unknown</td>\n",
       "    </tr>\n",
       "  </tbody>\n",
       "</table>\n",
       "</div>"
      ],
      "text/plain": [
       "          name                                  description   price  \\\n",
       "0    laphroaig             quarter cask scotch whisky 700ml   84.95   \n",
       "1    laphroaig  10 year old single malt scotch whisky 700ml   79.95   \n",
       "2  glenfarclas  15 year old single malt scotch whisky 700ml  109.95   \n",
       "\n",
       "                                               links  \\\n",
       "0  https://www.danmurphys.com.au/product/DM_91660...   \n",
       "1  https://www.danmurphys.com.au/product/DM_5512/...   \n",
       "2  https://www.danmurphys.com.au/product/DM_14392...   \n",
       "\n",
       "                                     product_details     variatal   size  \\\n",
       "0  the quarter cask is a strong, double cask matu...  single malt  700.0   \n",
       "1  laphroaig, founded in 1815 by brothers donald ...  single malt  700.0   \n",
       "2        15 year old single malt scotch whisky 700ml  single malt  700.0   \n",
       "\n",
       "     region                                            vintage  \\\n",
       "0     islay                             laphroaig quarter cask   \n",
       "1     islay           laphroaig 10 year old single malt whisky   \n",
       "2  highland  glenfarclas 15 year old single malt highland w...   \n",
       "\n",
       "  standard_drinks alcohol_volumne   country  closure  \n",
       "0            26.5          48.00%  scotland     cork  \n",
       "1              22          40.00%  scotland  unknown  \n",
       "2              25          46.00%       NaN  unknown  "
      ]
     },
     "execution_count": 4,
     "metadata": {},
     "output_type": "execute_result"
    }
   ],
   "source": [
    "whisky = pd.read_csv('./whisky.csv', index_col=0)\n",
    "whisky.head(3)"
   ]
  },
  {
   "cell_type": "code",
   "execution_count": 5,
   "metadata": {},
   "outputs": [
    {
     "data": {
      "text/plain": [
       "(422, 13)"
      ]
     },
     "execution_count": 5,
     "metadata": {},
     "output_type": "execute_result"
    }
   ],
   "source": [
    "whisky.shape"
   ]
  },
  {
   "cell_type": "code",
   "execution_count": 6,
   "metadata": {},
   "outputs": [
    {
     "data": {
      "text/plain": [
       "name               0\n",
       "description        0\n",
       "price              8\n",
       "links              0\n",
       "product_details    5\n",
       "variatal           0\n",
       "size               5\n",
       "region             0\n",
       "vintage            0\n",
       "standard_drinks    0\n",
       "alcohol_volumne    0\n",
       "country            2\n",
       "closure            0\n",
       "dtype: int64"
      ]
     },
     "execution_count": 6,
     "metadata": {},
     "output_type": "execute_result"
    }
   ],
   "source": [
    "whisky.isnull().sum()"
   ]
  },
  {
   "cell_type": "code",
   "execution_count": 7,
   "metadata": {},
   "outputs": [
    {
     "data": {
      "text/html": [
       "<div>\n",
       "<style scoped>\n",
       "    .dataframe tbody tr th:only-of-type {\n",
       "        vertical-align: middle;\n",
       "    }\n",
       "\n",
       "    .dataframe tbody tr th {\n",
       "        vertical-align: top;\n",
       "    }\n",
       "\n",
       "    .dataframe thead th {\n",
       "        text-align: right;\n",
       "    }\n",
       "</style>\n",
       "<table border=\"1\" class=\"dataframe\">\n",
       "  <thead>\n",
       "    <tr style=\"text-align: right;\">\n",
       "      <th></th>\n",
       "      <th>name</th>\n",
       "      <th>description</th>\n",
       "      <th>price</th>\n",
       "      <th>links</th>\n",
       "      <th>product_details</th>\n",
       "      <th>variatal</th>\n",
       "      <th>size</th>\n",
       "      <th>region</th>\n",
       "      <th>vintage</th>\n",
       "      <th>standard_drinks</th>\n",
       "      <th>alcohol_volumne</th>\n",
       "      <th>country</th>\n",
       "      <th>closure</th>\n",
       "    </tr>\n",
       "  </thead>\n",
       "  <tbody>\n",
       "    <tr>\n",
       "      <td>0</td>\n",
       "      <td>laphroaig</td>\n",
       "      <td>quarter cask scotch whisky 700ml</td>\n",
       "      <td>84.95</td>\n",
       "      <td>https://www.danmurphys.com.au/product/DM_91660...</td>\n",
       "      <td>the quarter cask is a strong, double cask matu...</td>\n",
       "      <td>single malt</td>\n",
       "      <td>700.0</td>\n",
       "      <td>islay</td>\n",
       "      <td>laphroaig quarter cask</td>\n",
       "      <td>26.5</td>\n",
       "      <td>48.00%</td>\n",
       "      <td>scotland</td>\n",
       "      <td>cork</td>\n",
       "    </tr>\n",
       "    <tr>\n",
       "      <td>1</td>\n",
       "      <td>laphroaig</td>\n",
       "      <td>10 year old single malt scotch whisky 700ml</td>\n",
       "      <td>79.95</td>\n",
       "      <td>https://www.danmurphys.com.au/product/DM_5512/...</td>\n",
       "      <td>laphroaig, founded in 1815 by brothers donald ...</td>\n",
       "      <td>single malt</td>\n",
       "      <td>700.0</td>\n",
       "      <td>islay</td>\n",
       "      <td>laphroaig 10 year old single malt whisky</td>\n",
       "      <td>22</td>\n",
       "      <td>40.00%</td>\n",
       "      <td>scotland</td>\n",
       "      <td>unknown</td>\n",
       "    </tr>\n",
       "    <tr>\n",
       "      <td>2</td>\n",
       "      <td>glenfarclas</td>\n",
       "      <td>15 year old single malt scotch whisky 700ml</td>\n",
       "      <td>109.95</td>\n",
       "      <td>https://www.danmurphys.com.au/product/DM_14392...</td>\n",
       "      <td>15 year old single malt scotch whisky 700ml</td>\n",
       "      <td>single malt</td>\n",
       "      <td>700.0</td>\n",
       "      <td>highland</td>\n",
       "      <td>glenfarclas 15 year old single malt highland w...</td>\n",
       "      <td>25</td>\n",
       "      <td>46.00%</td>\n",
       "      <td>NaN</td>\n",
       "      <td>unknown</td>\n",
       "    </tr>\n",
       "  </tbody>\n",
       "</table>\n",
       "</div>"
      ],
      "text/plain": [
       "          name                                  description   price  \\\n",
       "0    laphroaig             quarter cask scotch whisky 700ml   84.95   \n",
       "1    laphroaig  10 year old single malt scotch whisky 700ml   79.95   \n",
       "2  glenfarclas  15 year old single malt scotch whisky 700ml  109.95   \n",
       "\n",
       "                                               links  \\\n",
       "0  https://www.danmurphys.com.au/product/DM_91660...   \n",
       "1  https://www.danmurphys.com.au/product/DM_5512/...   \n",
       "2  https://www.danmurphys.com.au/product/DM_14392...   \n",
       "\n",
       "                                     product_details     variatal   size  \\\n",
       "0  the quarter cask is a strong, double cask matu...  single malt  700.0   \n",
       "1  laphroaig, founded in 1815 by brothers donald ...  single malt  700.0   \n",
       "2        15 year old single malt scotch whisky 700ml  single malt  700.0   \n",
       "\n",
       "     region                                            vintage  \\\n",
       "0     islay                             laphroaig quarter cask   \n",
       "1     islay           laphroaig 10 year old single malt whisky   \n",
       "2  highland  glenfarclas 15 year old single malt highland w...   \n",
       "\n",
       "  standard_drinks alcohol_volumne   country  closure  \n",
       "0            26.5          48.00%  scotland     cork  \n",
       "1              22          40.00%  scotland  unknown  \n",
       "2              25          46.00%       NaN  unknown  "
      ]
     },
     "execution_count": 7,
     "metadata": {},
     "output_type": "execute_result"
    }
   ],
   "source": [
    "whisky.head(3)"
   ]
  },
  {
   "cell_type": "code",
   "execution_count": 8,
   "metadata": {},
   "outputs": [],
   "source": [
    "# Changing the data frame to a string for cleaning\n",
    "whisky = whisky.astype(str)\n",
    "# lowercasing the name column\n",
    "whisky['name'] = whisky['name'].str.lower()\n",
    "# lowercasing the description column\n",
    "whisky['description'] = whisky['description'].str.lower()\n",
    "# lowecasing the product_details column\n",
    "whisky['product_details'] = whisky['product_details'].str.lower()\n",
    "# lowercasing the product details column\n",
    "whisky['variatal'] = whisky['variatal'].str.lower()\n",
    "# lowercasing the product details column\n",
    "whisky['region'] = whisky['region'].str.lower()"
   ]
  },
  {
   "cell_type": "code",
   "execution_count": 9,
   "metadata": {},
   "outputs": [],
   "source": [
    "# Cleaning the Size column\n",
    "whisky['size'] = whisky['size'].str.replace('mL','')\n",
    "whisky['size'] = whisky['size'].str.replace('ml','')\n",
    "whisky['size'] = whisky['size'].str.replace('L','000')\n",
    "\n",
    "whisky['size'].loc[whisky[whisky['description'].str.contains('700')].index] = 700\n",
    "whisky['size'].loc[whisky[whisky['description'].str.contains('750')].index] = 750\n",
    "whisky['size'].loc[whisky[whisky['description'].str.contains('500')].index] = 500\n",
    "\n",
    "whisky['size'].loc[whisky[whisky['size'] == 'Highland'].index] = 700\n",
    "whisky['size'].loc[whisky[whisky['size'] == 'Speyside'].index] = 700\n",
    "whisky['size'].loc[whisky[whisky['size'] == '17'].index] = 500\n",
    "\n",
    "whisky['size'] = whisky['size'].str.replace(' ','')\n",
    "\n",
    "whisky['size'].loc[whisky[whisky['description'].str.contains('700')].index] = '700'\n",
    "whisky['size'].loc[whisky[whisky['description'].str.contains('750')].index] = '750'\n",
    "whisky['size'].loc[whisky[whisky['description'].str.contains('500')].index] = '500'"
   ]
  },
  {
   "cell_type": "code",
   "execution_count": 10,
   "metadata": {},
   "outputs": [],
   "source": [
    "# Cleaning the variatal column\n",
    "whisky['variatal'] = whisky['variatal'].str.lower()\n",
    "whisky['variatal'].loc[whisky['description'].str.contains('single malt')] = 'single malt'\n",
    "whisky['variatal'].loc[whisky['product_details'].str.contains('single malt')] = 'single malt'\n",
    "whisky['variatal'].loc[whisky[whisky['variatal'] != 'single malt'].index] = 'blended'"
   ]
  },
  {
   "cell_type": "code",
   "execution_count": 11,
   "metadata": {},
   "outputs": [],
   "source": [
    "whisky.fillna('NaN', inplace=True)"
   ]
  },
  {
   "cell_type": "code",
   "execution_count": 12,
   "metadata": {},
   "outputs": [
    {
     "name": "stderr",
     "output_type": "stream",
     "text": [
      "/usr/local/anaconda3/lib/python3.7/site-packages/ipykernel_launcher.py:2: FutureWarning: arrays to stack must be passed as a \"sequence\" type such as list or tuple. Support for non-sequence iterables such as generators is deprecated as of NumPy 1.16 and will raise an error in the future.\n",
      "  \n",
      "/usr/local/anaconda3/lib/python3.7/site-packages/ipykernel_launcher.py:3: FutureWarning: arrays to stack must be passed as a \"sequence\" type such as list or tuple. Support for non-sequence iterables such as generators is deprecated as of NumPy 1.16 and will raise an error in the future.\n",
      "  This is separate from the ipykernel package so we can avoid doing imports until\n",
      "/usr/local/anaconda3/lib/python3.7/site-packages/ipykernel_launcher.py:4: FutureWarning: arrays to stack must be passed as a \"sequence\" type such as list or tuple. Support for non-sequence iterables such as generators is deprecated as of NumPy 1.16 and will raise an error in the future.\n",
      "  after removing the cwd from sys.path.\n",
      "/usr/local/anaconda3/lib/python3.7/site-packages/ipykernel_launcher.py:5: FutureWarning: arrays to stack must be passed as a \"sequence\" type such as list or tuple. Support for non-sequence iterables such as generators is deprecated as of NumPy 1.16 and will raise an error in the future.\n",
      "  \"\"\"\n",
      "/usr/local/anaconda3/lib/python3.7/site-packages/ipykernel_launcher.py:6: FutureWarning: arrays to stack must be passed as a \"sequence\" type such as list or tuple. Support for non-sequence iterables such as generators is deprecated as of NumPy 1.16 and will raise an error in the future.\n",
      "  \n"
     ]
    }
   ],
   "source": [
    "# Cleaning the closure column\n",
    "whisky['closure'].loc[whisky[np.column_stack(whisky[col].str.contains('Cork') for col in whisky)].index] = 'Cork'\n",
    "whisky['closure'].loc[whisky[np.column_stack(whisky[col].str.contains('Screw Cap') for col in whisky)].index] = 'Screw Cap'\n",
    "whisky['closure'].loc[whisky[np.column_stack(whisky[col].str.contains('Stopper') for col in whisky)].index] = 'Stopper'\n",
    "whisky['closure'].loc[whisky[np.column_stack(whisky[col].str.contains('Twist Top') for col in whisky)].index] = 'Twist Top'\n",
    "whisky['closure'].loc[whisky[np.column_stack(whisky[col].str.contains('cork') for col in whisky)].index] = 'Cork'"
   ]
  },
  {
   "cell_type": "code",
   "execution_count": 13,
   "metadata": {},
   "outputs": [],
   "source": [
    "# Cleaning the closure column\n",
    "whisky['closure'].loc[whisky[whisky['closure'] == 'no_information'].index] = 'Unknown'\n",
    "whisky['closure'].loc[whisky[whisky['closure'] == 'Single Malt'].index] = 'Unknown'\n",
    "whisky['closure'].loc[whisky[whisky['closure'] == 'nan'].index] = 'Unknown'\n",
    "whisky['closure'].loc[whisky[whisky['closure'] == 'Oban 14 Year Old works well as an accompaniment to seafood like oysters or smoked salmon, and discover new depths of flavour'].index] = 'Unknown'\n",
    "whisky['closure'].loc[whisky[whisky['closure'] == 'Glenfarclas'].index] = 'Unknown'\n",
    "whisky['closure'].loc[whisky[whisky['closure'] == 'Glenkinchie'].index] = 'Unknown'\n",
    "whisky['closure'].loc[whisky[whisky['closure'] == 'Islay Single Malt Scotch Whisky'].index] = 'Unknown'"
   ]
  },
  {
   "cell_type": "code",
   "execution_count": 14,
   "metadata": {},
   "outputs": [
    {
     "ename": "KeyError",
     "evalue": "\"['style'] not found in axis\"",
     "output_type": "error",
     "traceback": [
      "\u001b[0;31m---------------------------------------------------------------------------\u001b[0m",
      "\u001b[0;31mKeyError\u001b[0m                                  Traceback (most recent call last)",
      "\u001b[0;32m<ipython-input-14-234ddbf9316b>\u001b[0m in \u001b[0;36m<module>\u001b[0;34m\u001b[0m\n\u001b[0;32m----> 1\u001b[0;31m \u001b[0mwhisky\u001b[0m\u001b[0;34m.\u001b[0m\u001b[0mdrop\u001b[0m\u001b[0;34m(\u001b[0m\u001b[0;34m'style'\u001b[0m\u001b[0;34m,\u001b[0m \u001b[0maxis\u001b[0m\u001b[0;34m=\u001b[0m\u001b[0;36m1\u001b[0m\u001b[0;34m,\u001b[0m \u001b[0minplace\u001b[0m\u001b[0;34m=\u001b[0m\u001b[0;32mTrue\u001b[0m\u001b[0;34m)\u001b[0m\u001b[0;34m\u001b[0m\u001b[0;34m\u001b[0m\u001b[0m\n\u001b[0m",
      "\u001b[0;32m/usr/local/anaconda3/lib/python3.7/site-packages/pandas/core/frame.py\u001b[0m in \u001b[0;36mdrop\u001b[0;34m(self, labels, axis, index, columns, level, inplace, errors)\u001b[0m\n\u001b[1;32m   4100\u001b[0m             \u001b[0mlevel\u001b[0m\u001b[0;34m=\u001b[0m\u001b[0mlevel\u001b[0m\u001b[0;34m,\u001b[0m\u001b[0;34m\u001b[0m\u001b[0;34m\u001b[0m\u001b[0m\n\u001b[1;32m   4101\u001b[0m             \u001b[0minplace\u001b[0m\u001b[0;34m=\u001b[0m\u001b[0minplace\u001b[0m\u001b[0;34m,\u001b[0m\u001b[0;34m\u001b[0m\u001b[0;34m\u001b[0m\u001b[0m\n\u001b[0;32m-> 4102\u001b[0;31m             \u001b[0merrors\u001b[0m\u001b[0;34m=\u001b[0m\u001b[0merrors\u001b[0m\u001b[0;34m,\u001b[0m\u001b[0;34m\u001b[0m\u001b[0;34m\u001b[0m\u001b[0m\n\u001b[0m\u001b[1;32m   4103\u001b[0m         )\n\u001b[1;32m   4104\u001b[0m \u001b[0;34m\u001b[0m\u001b[0m\n",
      "\u001b[0;32m/usr/local/anaconda3/lib/python3.7/site-packages/pandas/core/generic.py\u001b[0m in \u001b[0;36mdrop\u001b[0;34m(self, labels, axis, index, columns, level, inplace, errors)\u001b[0m\n\u001b[1;32m   3912\u001b[0m         \u001b[0;32mfor\u001b[0m \u001b[0maxis\u001b[0m\u001b[0;34m,\u001b[0m \u001b[0mlabels\u001b[0m \u001b[0;32min\u001b[0m \u001b[0maxes\u001b[0m\u001b[0;34m.\u001b[0m\u001b[0mitems\u001b[0m\u001b[0;34m(\u001b[0m\u001b[0;34m)\u001b[0m\u001b[0;34m:\u001b[0m\u001b[0;34m\u001b[0m\u001b[0;34m\u001b[0m\u001b[0m\n\u001b[1;32m   3913\u001b[0m             \u001b[0;32mif\u001b[0m \u001b[0mlabels\u001b[0m \u001b[0;32mis\u001b[0m \u001b[0;32mnot\u001b[0m \u001b[0;32mNone\u001b[0m\u001b[0;34m:\u001b[0m\u001b[0;34m\u001b[0m\u001b[0;34m\u001b[0m\u001b[0m\n\u001b[0;32m-> 3914\u001b[0;31m                 \u001b[0mobj\u001b[0m \u001b[0;34m=\u001b[0m \u001b[0mobj\u001b[0m\u001b[0;34m.\u001b[0m\u001b[0m_drop_axis\u001b[0m\u001b[0;34m(\u001b[0m\u001b[0mlabels\u001b[0m\u001b[0;34m,\u001b[0m \u001b[0maxis\u001b[0m\u001b[0;34m,\u001b[0m \u001b[0mlevel\u001b[0m\u001b[0;34m=\u001b[0m\u001b[0mlevel\u001b[0m\u001b[0;34m,\u001b[0m \u001b[0merrors\u001b[0m\u001b[0;34m=\u001b[0m\u001b[0merrors\u001b[0m\u001b[0;34m)\u001b[0m\u001b[0;34m\u001b[0m\u001b[0;34m\u001b[0m\u001b[0m\n\u001b[0m\u001b[1;32m   3915\u001b[0m \u001b[0;34m\u001b[0m\u001b[0m\n\u001b[1;32m   3916\u001b[0m         \u001b[0;32mif\u001b[0m \u001b[0minplace\u001b[0m\u001b[0;34m:\u001b[0m\u001b[0;34m\u001b[0m\u001b[0;34m\u001b[0m\u001b[0m\n",
      "\u001b[0;32m/usr/local/anaconda3/lib/python3.7/site-packages/pandas/core/generic.py\u001b[0m in \u001b[0;36m_drop_axis\u001b[0;34m(self, labels, axis, level, errors)\u001b[0m\n\u001b[1;32m   3944\u001b[0m                 \u001b[0mnew_axis\u001b[0m \u001b[0;34m=\u001b[0m \u001b[0maxis\u001b[0m\u001b[0;34m.\u001b[0m\u001b[0mdrop\u001b[0m\u001b[0;34m(\u001b[0m\u001b[0mlabels\u001b[0m\u001b[0;34m,\u001b[0m \u001b[0mlevel\u001b[0m\u001b[0;34m=\u001b[0m\u001b[0mlevel\u001b[0m\u001b[0;34m,\u001b[0m \u001b[0merrors\u001b[0m\u001b[0;34m=\u001b[0m\u001b[0merrors\u001b[0m\u001b[0;34m)\u001b[0m\u001b[0;34m\u001b[0m\u001b[0;34m\u001b[0m\u001b[0m\n\u001b[1;32m   3945\u001b[0m             \u001b[0;32melse\u001b[0m\u001b[0;34m:\u001b[0m\u001b[0;34m\u001b[0m\u001b[0;34m\u001b[0m\u001b[0m\n\u001b[0;32m-> 3946\u001b[0;31m                 \u001b[0mnew_axis\u001b[0m \u001b[0;34m=\u001b[0m \u001b[0maxis\u001b[0m\u001b[0;34m.\u001b[0m\u001b[0mdrop\u001b[0m\u001b[0;34m(\u001b[0m\u001b[0mlabels\u001b[0m\u001b[0;34m,\u001b[0m \u001b[0merrors\u001b[0m\u001b[0;34m=\u001b[0m\u001b[0merrors\u001b[0m\u001b[0;34m)\u001b[0m\u001b[0;34m\u001b[0m\u001b[0;34m\u001b[0m\u001b[0m\n\u001b[0m\u001b[1;32m   3947\u001b[0m             \u001b[0mresult\u001b[0m \u001b[0;34m=\u001b[0m \u001b[0mself\u001b[0m\u001b[0;34m.\u001b[0m\u001b[0mreindex\u001b[0m\u001b[0;34m(\u001b[0m\u001b[0;34m**\u001b[0m\u001b[0;34m{\u001b[0m\u001b[0maxis_name\u001b[0m\u001b[0;34m:\u001b[0m \u001b[0mnew_axis\u001b[0m\u001b[0;34m}\u001b[0m\u001b[0;34m)\u001b[0m\u001b[0;34m\u001b[0m\u001b[0;34m\u001b[0m\u001b[0m\n\u001b[1;32m   3948\u001b[0m \u001b[0;34m\u001b[0m\u001b[0m\n",
      "\u001b[0;32m/usr/local/anaconda3/lib/python3.7/site-packages/pandas/core/indexes/base.py\u001b[0m in \u001b[0;36mdrop\u001b[0;34m(self, labels, errors)\u001b[0m\n\u001b[1;32m   5338\u001b[0m         \u001b[0;32mif\u001b[0m \u001b[0mmask\u001b[0m\u001b[0;34m.\u001b[0m\u001b[0many\u001b[0m\u001b[0;34m(\u001b[0m\u001b[0;34m)\u001b[0m\u001b[0;34m:\u001b[0m\u001b[0;34m\u001b[0m\u001b[0;34m\u001b[0m\u001b[0m\n\u001b[1;32m   5339\u001b[0m             \u001b[0;32mif\u001b[0m \u001b[0merrors\u001b[0m \u001b[0;34m!=\u001b[0m \u001b[0;34m\"ignore\"\u001b[0m\u001b[0;34m:\u001b[0m\u001b[0;34m\u001b[0m\u001b[0;34m\u001b[0m\u001b[0m\n\u001b[0;32m-> 5340\u001b[0;31m                 \u001b[0;32mraise\u001b[0m \u001b[0mKeyError\u001b[0m\u001b[0;34m(\u001b[0m\u001b[0;34m\"{} not found in axis\"\u001b[0m\u001b[0;34m.\u001b[0m\u001b[0mformat\u001b[0m\u001b[0;34m(\u001b[0m\u001b[0mlabels\u001b[0m\u001b[0;34m[\u001b[0m\u001b[0mmask\u001b[0m\u001b[0;34m]\u001b[0m\u001b[0;34m)\u001b[0m\u001b[0;34m)\u001b[0m\u001b[0;34m\u001b[0m\u001b[0;34m\u001b[0m\u001b[0m\n\u001b[0m\u001b[1;32m   5341\u001b[0m             \u001b[0mindexer\u001b[0m \u001b[0;34m=\u001b[0m \u001b[0mindexer\u001b[0m\u001b[0;34m[\u001b[0m\u001b[0;34m~\u001b[0m\u001b[0mmask\u001b[0m\u001b[0;34m]\u001b[0m\u001b[0;34m\u001b[0m\u001b[0;34m\u001b[0m\u001b[0m\n\u001b[1;32m   5342\u001b[0m         \u001b[0;32mreturn\u001b[0m \u001b[0mself\u001b[0m\u001b[0;34m.\u001b[0m\u001b[0mdelete\u001b[0m\u001b[0;34m(\u001b[0m\u001b[0mindexer\u001b[0m\u001b[0;34m)\u001b[0m\u001b[0;34m\u001b[0m\u001b[0;34m\u001b[0m\u001b[0m\n",
      "\u001b[0;31mKeyError\u001b[0m: \"['style'] not found in axis\""
     ]
    }
   ],
   "source": [
    "whisky.drop('style', axis=1, inplace=True)"
   ]
  },
  {
   "cell_type": "code",
   "execution_count": 15,
   "metadata": {},
   "outputs": [
    {
     "ename": "KeyError",
     "evalue": "\"['brand'] not found in axis\"",
     "output_type": "error",
     "traceback": [
      "\u001b[0;31m---------------------------------------------------------------------------\u001b[0m",
      "\u001b[0;31mKeyError\u001b[0m                                  Traceback (most recent call last)",
      "\u001b[0;32m<ipython-input-15-9c54fbc5b56d>\u001b[0m in \u001b[0;36m<module>\u001b[0;34m\u001b[0m\n\u001b[0;32m----> 1\u001b[0;31m \u001b[0mwhisky\u001b[0m\u001b[0;34m.\u001b[0m\u001b[0mdrop\u001b[0m\u001b[0;34m(\u001b[0m\u001b[0;34m'brand'\u001b[0m\u001b[0;34m,\u001b[0m \u001b[0maxis\u001b[0m\u001b[0;34m=\u001b[0m\u001b[0;36m1\u001b[0m\u001b[0;34m,\u001b[0m \u001b[0minplace\u001b[0m\u001b[0;34m=\u001b[0m\u001b[0;32mTrue\u001b[0m\u001b[0;34m)\u001b[0m\u001b[0;34m\u001b[0m\u001b[0;34m\u001b[0m\u001b[0m\n\u001b[0m",
      "\u001b[0;32m/usr/local/anaconda3/lib/python3.7/site-packages/pandas/core/frame.py\u001b[0m in \u001b[0;36mdrop\u001b[0;34m(self, labels, axis, index, columns, level, inplace, errors)\u001b[0m\n\u001b[1;32m   4100\u001b[0m             \u001b[0mlevel\u001b[0m\u001b[0;34m=\u001b[0m\u001b[0mlevel\u001b[0m\u001b[0;34m,\u001b[0m\u001b[0;34m\u001b[0m\u001b[0;34m\u001b[0m\u001b[0m\n\u001b[1;32m   4101\u001b[0m             \u001b[0minplace\u001b[0m\u001b[0;34m=\u001b[0m\u001b[0minplace\u001b[0m\u001b[0;34m,\u001b[0m\u001b[0;34m\u001b[0m\u001b[0;34m\u001b[0m\u001b[0m\n\u001b[0;32m-> 4102\u001b[0;31m             \u001b[0merrors\u001b[0m\u001b[0;34m=\u001b[0m\u001b[0merrors\u001b[0m\u001b[0;34m,\u001b[0m\u001b[0;34m\u001b[0m\u001b[0;34m\u001b[0m\u001b[0m\n\u001b[0m\u001b[1;32m   4103\u001b[0m         )\n\u001b[1;32m   4104\u001b[0m \u001b[0;34m\u001b[0m\u001b[0m\n",
      "\u001b[0;32m/usr/local/anaconda3/lib/python3.7/site-packages/pandas/core/generic.py\u001b[0m in \u001b[0;36mdrop\u001b[0;34m(self, labels, axis, index, columns, level, inplace, errors)\u001b[0m\n\u001b[1;32m   3912\u001b[0m         \u001b[0;32mfor\u001b[0m \u001b[0maxis\u001b[0m\u001b[0;34m,\u001b[0m \u001b[0mlabels\u001b[0m \u001b[0;32min\u001b[0m \u001b[0maxes\u001b[0m\u001b[0;34m.\u001b[0m\u001b[0mitems\u001b[0m\u001b[0;34m(\u001b[0m\u001b[0;34m)\u001b[0m\u001b[0;34m:\u001b[0m\u001b[0;34m\u001b[0m\u001b[0;34m\u001b[0m\u001b[0m\n\u001b[1;32m   3913\u001b[0m             \u001b[0;32mif\u001b[0m \u001b[0mlabels\u001b[0m \u001b[0;32mis\u001b[0m \u001b[0;32mnot\u001b[0m \u001b[0;32mNone\u001b[0m\u001b[0;34m:\u001b[0m\u001b[0;34m\u001b[0m\u001b[0;34m\u001b[0m\u001b[0m\n\u001b[0;32m-> 3914\u001b[0;31m                 \u001b[0mobj\u001b[0m \u001b[0;34m=\u001b[0m \u001b[0mobj\u001b[0m\u001b[0;34m.\u001b[0m\u001b[0m_drop_axis\u001b[0m\u001b[0;34m(\u001b[0m\u001b[0mlabels\u001b[0m\u001b[0;34m,\u001b[0m \u001b[0maxis\u001b[0m\u001b[0;34m,\u001b[0m \u001b[0mlevel\u001b[0m\u001b[0;34m=\u001b[0m\u001b[0mlevel\u001b[0m\u001b[0;34m,\u001b[0m \u001b[0merrors\u001b[0m\u001b[0;34m=\u001b[0m\u001b[0merrors\u001b[0m\u001b[0;34m)\u001b[0m\u001b[0;34m\u001b[0m\u001b[0;34m\u001b[0m\u001b[0m\n\u001b[0m\u001b[1;32m   3915\u001b[0m \u001b[0;34m\u001b[0m\u001b[0m\n\u001b[1;32m   3916\u001b[0m         \u001b[0;32mif\u001b[0m \u001b[0minplace\u001b[0m\u001b[0;34m:\u001b[0m\u001b[0;34m\u001b[0m\u001b[0;34m\u001b[0m\u001b[0m\n",
      "\u001b[0;32m/usr/local/anaconda3/lib/python3.7/site-packages/pandas/core/generic.py\u001b[0m in \u001b[0;36m_drop_axis\u001b[0;34m(self, labels, axis, level, errors)\u001b[0m\n\u001b[1;32m   3944\u001b[0m                 \u001b[0mnew_axis\u001b[0m \u001b[0;34m=\u001b[0m \u001b[0maxis\u001b[0m\u001b[0;34m.\u001b[0m\u001b[0mdrop\u001b[0m\u001b[0;34m(\u001b[0m\u001b[0mlabels\u001b[0m\u001b[0;34m,\u001b[0m \u001b[0mlevel\u001b[0m\u001b[0;34m=\u001b[0m\u001b[0mlevel\u001b[0m\u001b[0;34m,\u001b[0m \u001b[0merrors\u001b[0m\u001b[0;34m=\u001b[0m\u001b[0merrors\u001b[0m\u001b[0;34m)\u001b[0m\u001b[0;34m\u001b[0m\u001b[0;34m\u001b[0m\u001b[0m\n\u001b[1;32m   3945\u001b[0m             \u001b[0;32melse\u001b[0m\u001b[0;34m:\u001b[0m\u001b[0;34m\u001b[0m\u001b[0;34m\u001b[0m\u001b[0m\n\u001b[0;32m-> 3946\u001b[0;31m                 \u001b[0mnew_axis\u001b[0m \u001b[0;34m=\u001b[0m \u001b[0maxis\u001b[0m\u001b[0;34m.\u001b[0m\u001b[0mdrop\u001b[0m\u001b[0;34m(\u001b[0m\u001b[0mlabels\u001b[0m\u001b[0;34m,\u001b[0m \u001b[0merrors\u001b[0m\u001b[0;34m=\u001b[0m\u001b[0merrors\u001b[0m\u001b[0;34m)\u001b[0m\u001b[0;34m\u001b[0m\u001b[0;34m\u001b[0m\u001b[0m\n\u001b[0m\u001b[1;32m   3947\u001b[0m             \u001b[0mresult\u001b[0m \u001b[0;34m=\u001b[0m \u001b[0mself\u001b[0m\u001b[0;34m.\u001b[0m\u001b[0mreindex\u001b[0m\u001b[0;34m(\u001b[0m\u001b[0;34m**\u001b[0m\u001b[0;34m{\u001b[0m\u001b[0maxis_name\u001b[0m\u001b[0;34m:\u001b[0m \u001b[0mnew_axis\u001b[0m\u001b[0;34m}\u001b[0m\u001b[0;34m)\u001b[0m\u001b[0;34m\u001b[0m\u001b[0;34m\u001b[0m\u001b[0m\n\u001b[1;32m   3948\u001b[0m \u001b[0;34m\u001b[0m\u001b[0m\n",
      "\u001b[0;32m/usr/local/anaconda3/lib/python3.7/site-packages/pandas/core/indexes/base.py\u001b[0m in \u001b[0;36mdrop\u001b[0;34m(self, labels, errors)\u001b[0m\n\u001b[1;32m   5338\u001b[0m         \u001b[0;32mif\u001b[0m \u001b[0mmask\u001b[0m\u001b[0;34m.\u001b[0m\u001b[0many\u001b[0m\u001b[0;34m(\u001b[0m\u001b[0;34m)\u001b[0m\u001b[0;34m:\u001b[0m\u001b[0;34m\u001b[0m\u001b[0;34m\u001b[0m\u001b[0m\n\u001b[1;32m   5339\u001b[0m             \u001b[0;32mif\u001b[0m \u001b[0merrors\u001b[0m \u001b[0;34m!=\u001b[0m \u001b[0;34m\"ignore\"\u001b[0m\u001b[0;34m:\u001b[0m\u001b[0;34m\u001b[0m\u001b[0;34m\u001b[0m\u001b[0m\n\u001b[0;32m-> 5340\u001b[0;31m                 \u001b[0;32mraise\u001b[0m \u001b[0mKeyError\u001b[0m\u001b[0;34m(\u001b[0m\u001b[0;34m\"{} not found in axis\"\u001b[0m\u001b[0;34m.\u001b[0m\u001b[0mformat\u001b[0m\u001b[0;34m(\u001b[0m\u001b[0mlabels\u001b[0m\u001b[0;34m[\u001b[0m\u001b[0mmask\u001b[0m\u001b[0;34m]\u001b[0m\u001b[0;34m)\u001b[0m\u001b[0;34m)\u001b[0m\u001b[0;34m\u001b[0m\u001b[0;34m\u001b[0m\u001b[0m\n\u001b[0m\u001b[1;32m   5341\u001b[0m             \u001b[0mindexer\u001b[0m \u001b[0;34m=\u001b[0m \u001b[0mindexer\u001b[0m\u001b[0;34m[\u001b[0m\u001b[0;34m~\u001b[0m\u001b[0mmask\u001b[0m\u001b[0;34m]\u001b[0m\u001b[0;34m\u001b[0m\u001b[0;34m\u001b[0m\u001b[0m\n\u001b[1;32m   5342\u001b[0m         \u001b[0;32mreturn\u001b[0m \u001b[0mself\u001b[0m\u001b[0;34m.\u001b[0m\u001b[0mdelete\u001b[0m\u001b[0;34m(\u001b[0m\u001b[0mindexer\u001b[0m\u001b[0;34m)\u001b[0m\u001b[0;34m\u001b[0m\u001b[0;34m\u001b[0m\u001b[0m\n",
      "\u001b[0;31mKeyError\u001b[0m: \"['brand'] not found in axis\""
     ]
    }
   ],
   "source": [
    "whisky.drop('brand', axis=1, inplace=True)"
   ]
  },
  {
   "cell_type": "code",
   "execution_count": 16,
   "metadata": {},
   "outputs": [
    {
     "name": "stderr",
     "output_type": "stream",
     "text": [
      "/usr/local/anaconda3/lib/python3.7/site-packages/ipykernel_launcher.py:2: FutureWarning: arrays to stack must be passed as a \"sequence\" type such as list or tuple. Support for non-sequence iterables such as generators is deprecated as of NumPy 1.16 and will raise an error in the future.\n",
      "  \n",
      "/usr/local/anaconda3/lib/python3.7/site-packages/ipykernel_launcher.py:3: FutureWarning: arrays to stack must be passed as a \"sequence\" type such as list or tuple. Support for non-sequence iterables such as generators is deprecated as of NumPy 1.16 and will raise an error in the future.\n",
      "  This is separate from the ipykernel package so we can avoid doing imports until\n",
      "/usr/local/anaconda3/lib/python3.7/site-packages/ipykernel_launcher.py:4: FutureWarning: arrays to stack must be passed as a \"sequence\" type such as list or tuple. Support for non-sequence iterables such as generators is deprecated as of NumPy 1.16 and will raise an error in the future.\n",
      "  after removing the cwd from sys.path.\n",
      "/usr/local/anaconda3/lib/python3.7/site-packages/ipykernel_launcher.py:5: FutureWarning: arrays to stack must be passed as a \"sequence\" type such as list or tuple. Support for non-sequence iterables such as generators is deprecated as of NumPy 1.16 and will raise an error in the future.\n",
      "  \"\"\"\n",
      "/usr/local/anaconda3/lib/python3.7/site-packages/ipykernel_launcher.py:6: FutureWarning: arrays to stack must be passed as a \"sequence\" type such as list or tuple. Support for non-sequence iterables such as generators is deprecated as of NumPy 1.16 and will raise an error in the future.\n",
      "  \n",
      "/usr/local/anaconda3/lib/python3.7/site-packages/ipykernel_launcher.py:7: FutureWarning: arrays to stack must be passed as a \"sequence\" type such as list or tuple. Support for non-sequence iterables such as generators is deprecated as of NumPy 1.16 and will raise an error in the future.\n",
      "  import sys\n"
     ]
    }
   ],
   "source": [
    "# Cleaning the Region Column\n",
    "whisky['region'].loc[whisky[np.column_stack(whisky[col].str.contains('islay') for col in whisky)].index] = 'Islay'\n",
    "whisky['region'].loc[whisky[np.column_stack(whisky[col].str.contains('speyside') for col in whisky)].index] = 'Speyside'\n",
    "whisky['region'].loc[whisky[np.column_stack(whisky[col].str.contains('highland') for col in whisky)].index] = 'Highland'\n",
    "whisky['region'].loc[whisky[np.column_stack(whisky[col].str.contains('Lowland') for col in whisky)].index] = 'Lowland'\n",
    "whisky['region'].loc[whisky[np.column_stack(whisky[col].str.contains('tasmania') for col in whisky)].index] = 'tasmania'\n",
    "whisky['region'].loc[whisky[np.column_stack(whisky[col].str.contains('niigata') for col in whisky)].index] = 'niigata'"
   ]
  },
  {
   "cell_type": "code",
   "execution_count": 17,
   "metadata": {},
   "outputs": [],
   "source": [
    "whisky['region'] = whisky['region'].str.lower()"
   ]
  },
  {
   "cell_type": "code",
   "execution_count": 18,
   "metadata": {},
   "outputs": [
    {
     "name": "stderr",
     "output_type": "stream",
     "text": [
      "/usr/local/anaconda3/lib/python3.7/site-packages/ipykernel_launcher.py:2: FutureWarning: arrays to stack must be passed as a \"sequence\" type such as list or tuple. Support for non-sequence iterables such as generators is deprecated as of NumPy 1.16 and will raise an error in the future.\n",
      "  \n",
      "/usr/local/anaconda3/lib/python3.7/site-packages/ipykernel_launcher.py:3: FutureWarning: arrays to stack must be passed as a \"sequence\" type such as list or tuple. Support for non-sequence iterables such as generators is deprecated as of NumPy 1.16 and will raise an error in the future.\n",
      "  This is separate from the ipykernel package so we can avoid doing imports until\n",
      "/usr/local/anaconda3/lib/python3.7/site-packages/ipykernel_launcher.py:4: FutureWarning: arrays to stack must be passed as a \"sequence\" type such as list or tuple. Support for non-sequence iterables such as generators is deprecated as of NumPy 1.16 and will raise an error in the future.\n",
      "  after removing the cwd from sys.path.\n",
      "/usr/local/anaconda3/lib/python3.7/site-packages/ipykernel_launcher.py:5: FutureWarning: arrays to stack must be passed as a \"sequence\" type such as list or tuple. Support for non-sequence iterables such as generators is deprecated as of NumPy 1.16 and will raise an error in the future.\n",
      "  \"\"\"\n",
      "/usr/local/anaconda3/lib/python3.7/site-packages/ipykernel_launcher.py:6: FutureWarning: arrays to stack must be passed as a \"sequence\" type such as list or tuple. Support for non-sequence iterables such as generators is deprecated as of NumPy 1.16 and will raise an error in the future.\n",
      "  \n",
      "/usr/local/anaconda3/lib/python3.7/site-packages/ipykernel_launcher.py:7: FutureWarning: arrays to stack must be passed as a \"sequence\" type such as list or tuple. Support for non-sequence iterables such as generators is deprecated as of NumPy 1.16 and will raise an error in the future.\n",
      "  import sys\n",
      "/usr/local/anaconda3/lib/python3.7/site-packages/ipykernel_launcher.py:8: FutureWarning: arrays to stack must be passed as a \"sequence\" type such as list or tuple. Support for non-sequence iterables such as generators is deprecated as of NumPy 1.16 and will raise an error in the future.\n",
      "  \n",
      "/usr/local/anaconda3/lib/python3.7/site-packages/ipykernel_launcher.py:9: FutureWarning: arrays to stack must be passed as a \"sequence\" type such as list or tuple. Support for non-sequence iterables such as generators is deprecated as of NumPy 1.16 and will raise an error in the future.\n",
      "  if __name__ == '__main__':\n"
     ]
    }
   ],
   "source": [
    "# Claening the country column\n",
    "whisky['country'].loc[whisky[np.column_stack(whisky[col].str.contains('japanese') for col in whisky)].index] = 'Japan'\n",
    "whisky['country'].loc[whisky[np.column_stack(whisky[col].str.contains('england') for col in whisky)].index] = 'England'\n",
    "whisky['country'].loc[whisky[np.column_stack(whisky[col].str.contains('wales') for col in whisky)].index] = 'Wales'\n",
    "whisky['country'].loc[whisky[np.column_stack(whisky[col].str.contains('Scotland') for col in whisky)].index] = 'Scotland'\n",
    "whisky['country'].loc[whisky[np.column_stack(whisky[col].str.contains('Tasmania') for col in whisky)].index] = 'Australia'\n",
    "whisky['country'].loc[whisky[np.column_stack(whisky[col].str.contains('Irish') for col in whisky)].index] = 'Ireland'\n",
    "whisky['country'].loc[whisky[np.column_stack(whisky[col].str.contains('Ireland') for col in whisky)].index] = 'Ireland'\n",
    "whisky['country'].loc[whisky[np.column_stack(whisky[col].str.contains('New Zealand') for col in whisky)].index] = 'New Zealand'"
   ]
  },
  {
   "cell_type": "code",
   "execution_count": 19,
   "metadata": {},
   "outputs": [
    {
     "data": {
      "text/html": [
       "<div>\n",
       "<style scoped>\n",
       "    .dataframe tbody tr th:only-of-type {\n",
       "        vertical-align: middle;\n",
       "    }\n",
       "\n",
       "    .dataframe tbody tr th {\n",
       "        vertical-align: top;\n",
       "    }\n",
       "\n",
       "    .dataframe thead th {\n",
       "        text-align: right;\n",
       "    }\n",
       "</style>\n",
       "<table border=\"1\" class=\"dataframe\">\n",
       "  <thead>\n",
       "    <tr style=\"text-align: right;\">\n",
       "      <th></th>\n",
       "      <th>name</th>\n",
       "      <th>description</th>\n",
       "      <th>price</th>\n",
       "      <th>links</th>\n",
       "      <th>product_details</th>\n",
       "      <th>variatal</th>\n",
       "      <th>size</th>\n",
       "      <th>region</th>\n",
       "      <th>vintage</th>\n",
       "      <th>standard_drinks</th>\n",
       "      <th>alcohol_volumne</th>\n",
       "      <th>country</th>\n",
       "      <th>closure</th>\n",
       "    </tr>\n",
       "  </thead>\n",
       "  <tbody>\n",
       "    <tr>\n",
       "      <td>0</td>\n",
       "      <td>laphroaig</td>\n",
       "      <td>quarter cask scotch whisky 700ml</td>\n",
       "      <td>84.95</td>\n",
       "      <td>https://www.danmurphys.com.au/product/DM_91660...</td>\n",
       "      <td>the quarter cask is a strong, double cask matu...</td>\n",
       "      <td>single malt</td>\n",
       "      <td>700</td>\n",
       "      <td>islay</td>\n",
       "      <td>laphroaig quarter cask</td>\n",
       "      <td>26.5</td>\n",
       "      <td>48.00%</td>\n",
       "      <td>scotland</td>\n",
       "      <td>Cork</td>\n",
       "    </tr>\n",
       "    <tr>\n",
       "      <td>1</td>\n",
       "      <td>laphroaig</td>\n",
       "      <td>10 year old single malt scotch whisky 700ml</td>\n",
       "      <td>79.95</td>\n",
       "      <td>https://www.danmurphys.com.au/product/DM_5512/...</td>\n",
       "      <td>laphroaig, founded in 1815 by brothers donald ...</td>\n",
       "      <td>single malt</td>\n",
       "      <td>700</td>\n",
       "      <td>islay</td>\n",
       "      <td>laphroaig 10 year old single malt whisky</td>\n",
       "      <td>22</td>\n",
       "      <td>40.00%</td>\n",
       "      <td>scotland</td>\n",
       "      <td>unknown</td>\n",
       "    </tr>\n",
       "    <tr>\n",
       "      <td>2</td>\n",
       "      <td>glenfarclas</td>\n",
       "      <td>15 year old single malt scotch whisky 700ml</td>\n",
       "      <td>109.95</td>\n",
       "      <td>https://www.danmurphys.com.au/product/DM_14392...</td>\n",
       "      <td>15 year old single malt scotch whisky 700ml</td>\n",
       "      <td>single malt</td>\n",
       "      <td>700</td>\n",
       "      <td>highland</td>\n",
       "      <td>glenfarclas 15 year old single malt highland w...</td>\n",
       "      <td>25</td>\n",
       "      <td>46.00%</td>\n",
       "      <td>nan</td>\n",
       "      <td>unknown</td>\n",
       "    </tr>\n",
       "    <tr>\n",
       "      <td>3</td>\n",
       "      <td>glenfarclas</td>\n",
       "      <td>12 year old single malt scotch whisky 700ml</td>\n",
       "      <td>115.99</td>\n",
       "      <td>https://www.danmurphys.com.au/product/DM_11783...</td>\n",
       "      <td>don't be fooled by the nose into thinking this...</td>\n",
       "      <td>single malt</td>\n",
       "      <td>700</td>\n",
       "      <td>highland</td>\n",
       "      <td>glenfarclas 12 year old single highland malt s...</td>\n",
       "      <td>24</td>\n",
       "      <td>43.00%</td>\n",
       "      <td>scotland</td>\n",
       "      <td>unknown</td>\n",
       "    </tr>\n",
       "    <tr>\n",
       "      <td>4</td>\n",
       "      <td>glenfiddich</td>\n",
       "      <td>12 year old single malt scotch whisky 700ml</td>\n",
       "      <td>61.95</td>\n",
       "      <td>https://www.danmurphys.com.au/product/DM_17621...</td>\n",
       "      <td>after 12 years, this signature single malt by ...</td>\n",
       "      <td>single malt</td>\n",
       "      <td>700</td>\n",
       "      <td>speyside</td>\n",
       "      <td>22</td>\n",
       "      <td>40.00%</td>\n",
       "      <td>Scotland</td>\n",
       "      <td>Scotland</td>\n",
       "      <td>Cork</td>\n",
       "    </tr>\n",
       "  </tbody>\n",
       "</table>\n",
       "</div>"
      ],
      "text/plain": [
       "          name                                  description   price  \\\n",
       "0    laphroaig             quarter cask scotch whisky 700ml   84.95   \n",
       "1    laphroaig  10 year old single malt scotch whisky 700ml   79.95   \n",
       "2  glenfarclas  15 year old single malt scotch whisky 700ml  109.95   \n",
       "3  glenfarclas  12 year old single malt scotch whisky 700ml  115.99   \n",
       "4  glenfiddich  12 year old single malt scotch whisky 700ml   61.95   \n",
       "\n",
       "                                               links  \\\n",
       "0  https://www.danmurphys.com.au/product/DM_91660...   \n",
       "1  https://www.danmurphys.com.au/product/DM_5512/...   \n",
       "2  https://www.danmurphys.com.au/product/DM_14392...   \n",
       "3  https://www.danmurphys.com.au/product/DM_11783...   \n",
       "4  https://www.danmurphys.com.au/product/DM_17621...   \n",
       "\n",
       "                                     product_details     variatal size  \\\n",
       "0  the quarter cask is a strong, double cask matu...  single malt  700   \n",
       "1  laphroaig, founded in 1815 by brothers donald ...  single malt  700   \n",
       "2        15 year old single malt scotch whisky 700ml  single malt  700   \n",
       "3  don't be fooled by the nose into thinking this...  single malt  700   \n",
       "4  after 12 years, this signature single malt by ...  single malt  700   \n",
       "\n",
       "     region                                            vintage  \\\n",
       "0     islay                             laphroaig quarter cask   \n",
       "1     islay           laphroaig 10 year old single malt whisky   \n",
       "2  highland  glenfarclas 15 year old single malt highland w...   \n",
       "3  highland  glenfarclas 12 year old single highland malt s...   \n",
       "4  speyside                                                 22   \n",
       "\n",
       "  standard_drinks alcohol_volumne   country  closure  \n",
       "0            26.5          48.00%  scotland     Cork  \n",
       "1              22          40.00%  scotland  unknown  \n",
       "2              25          46.00%       nan  unknown  \n",
       "3              24          43.00%  scotland  unknown  \n",
       "4          40.00%        Scotland  Scotland     Cork  "
      ]
     },
     "execution_count": 19,
     "metadata": {},
     "output_type": "execute_result"
    }
   ],
   "source": [
    "whisky.head()"
   ]
  },
  {
   "cell_type": "code",
   "execution_count": 20,
   "metadata": {},
   "outputs": [],
   "source": [
    "whisky['vintage'] = whisky['vintage'].str.lower()"
   ]
  },
  {
   "cell_type": "code",
   "execution_count": 21,
   "metadata": {},
   "outputs": [],
   "source": [
    "whisky['country'] = whisky['country'].str.lower()"
   ]
  },
  {
   "cell_type": "code",
   "execution_count": 22,
   "metadata": {},
   "outputs": [
    {
     "data": {
      "text/html": [
       "<div>\n",
       "<style scoped>\n",
       "    .dataframe tbody tr th:only-of-type {\n",
       "        vertical-align: middle;\n",
       "    }\n",
       "\n",
       "    .dataframe tbody tr th {\n",
       "        vertical-align: top;\n",
       "    }\n",
       "\n",
       "    .dataframe thead th {\n",
       "        text-align: right;\n",
       "    }\n",
       "</style>\n",
       "<table border=\"1\" class=\"dataframe\">\n",
       "  <thead>\n",
       "    <tr style=\"text-align: right;\">\n",
       "      <th></th>\n",
       "      <th>name</th>\n",
       "      <th>description</th>\n",
       "      <th>price</th>\n",
       "      <th>links</th>\n",
       "      <th>product_details</th>\n",
       "      <th>variatal</th>\n",
       "      <th>size</th>\n",
       "      <th>region</th>\n",
       "      <th>vintage</th>\n",
       "      <th>standard_drinks</th>\n",
       "      <th>alcohol_volumne</th>\n",
       "      <th>country</th>\n",
       "      <th>closure</th>\n",
       "    </tr>\n",
       "  </thead>\n",
       "  <tbody>\n",
       "    <tr>\n",
       "      <td>0</td>\n",
       "      <td>laphroaig</td>\n",
       "      <td>quarter cask scotch whisky 700ml</td>\n",
       "      <td>84.95</td>\n",
       "      <td>https://www.danmurphys.com.au/product/DM_91660...</td>\n",
       "      <td>the quarter cask is a strong, double cask matu...</td>\n",
       "      <td>single malt</td>\n",
       "      <td>700</td>\n",
       "      <td>islay</td>\n",
       "      <td>laphroaig quarter cask</td>\n",
       "      <td>26.5</td>\n",
       "      <td>48.00%</td>\n",
       "      <td>scotland</td>\n",
       "      <td>Cork</td>\n",
       "    </tr>\n",
       "    <tr>\n",
       "      <td>1</td>\n",
       "      <td>laphroaig</td>\n",
       "      <td>10 year old single malt scotch whisky 700ml</td>\n",
       "      <td>79.95</td>\n",
       "      <td>https://www.danmurphys.com.au/product/DM_5512/...</td>\n",
       "      <td>laphroaig, founded in 1815 by brothers donald ...</td>\n",
       "      <td>single malt</td>\n",
       "      <td>700</td>\n",
       "      <td>islay</td>\n",
       "      <td>laphroaig 10 year old single malt whisky</td>\n",
       "      <td>22</td>\n",
       "      <td>40.00%</td>\n",
       "      <td>scotland</td>\n",
       "      <td>unknown</td>\n",
       "    </tr>\n",
       "    <tr>\n",
       "      <td>2</td>\n",
       "      <td>glenfarclas</td>\n",
       "      <td>15 year old single malt scotch whisky 700ml</td>\n",
       "      <td>109.95</td>\n",
       "      <td>https://www.danmurphys.com.au/product/DM_14392...</td>\n",
       "      <td>15 year old single malt scotch whisky 700ml</td>\n",
       "      <td>single malt</td>\n",
       "      <td>700</td>\n",
       "      <td>highland</td>\n",
       "      <td>glenfarclas 15 year old single malt highland w...</td>\n",
       "      <td>25</td>\n",
       "      <td>46.00%</td>\n",
       "      <td>nan</td>\n",
       "      <td>unknown</td>\n",
       "    </tr>\n",
       "    <tr>\n",
       "      <td>3</td>\n",
       "      <td>glenfarclas</td>\n",
       "      <td>12 year old single malt scotch whisky 700ml</td>\n",
       "      <td>115.99</td>\n",
       "      <td>https://www.danmurphys.com.au/product/DM_11783...</td>\n",
       "      <td>don't be fooled by the nose into thinking this...</td>\n",
       "      <td>single malt</td>\n",
       "      <td>700</td>\n",
       "      <td>highland</td>\n",
       "      <td>glenfarclas 12 year old single highland malt s...</td>\n",
       "      <td>24</td>\n",
       "      <td>43.00%</td>\n",
       "      <td>scotland</td>\n",
       "      <td>unknown</td>\n",
       "    </tr>\n",
       "    <tr>\n",
       "      <td>4</td>\n",
       "      <td>glenfiddich</td>\n",
       "      <td>12 year old single malt scotch whisky 700ml</td>\n",
       "      <td>61.95</td>\n",
       "      <td>https://www.danmurphys.com.au/product/DM_17621...</td>\n",
       "      <td>after 12 years, this signature single malt by ...</td>\n",
       "      <td>single malt</td>\n",
       "      <td>700</td>\n",
       "      <td>speyside</td>\n",
       "      <td>22</td>\n",
       "      <td>40.00%</td>\n",
       "      <td>Scotland</td>\n",
       "      <td>scotland</td>\n",
       "      <td>Cork</td>\n",
       "    </tr>\n",
       "  </tbody>\n",
       "</table>\n",
       "</div>"
      ],
      "text/plain": [
       "          name                                  description   price  \\\n",
       "0    laphroaig             quarter cask scotch whisky 700ml   84.95   \n",
       "1    laphroaig  10 year old single malt scotch whisky 700ml   79.95   \n",
       "2  glenfarclas  15 year old single malt scotch whisky 700ml  109.95   \n",
       "3  glenfarclas  12 year old single malt scotch whisky 700ml  115.99   \n",
       "4  glenfiddich  12 year old single malt scotch whisky 700ml   61.95   \n",
       "\n",
       "                                               links  \\\n",
       "0  https://www.danmurphys.com.au/product/DM_91660...   \n",
       "1  https://www.danmurphys.com.au/product/DM_5512/...   \n",
       "2  https://www.danmurphys.com.au/product/DM_14392...   \n",
       "3  https://www.danmurphys.com.au/product/DM_11783...   \n",
       "4  https://www.danmurphys.com.au/product/DM_17621...   \n",
       "\n",
       "                                     product_details     variatal size  \\\n",
       "0  the quarter cask is a strong, double cask matu...  single malt  700   \n",
       "1  laphroaig, founded in 1815 by brothers donald ...  single malt  700   \n",
       "2        15 year old single malt scotch whisky 700ml  single malt  700   \n",
       "3  don't be fooled by the nose into thinking this...  single malt  700   \n",
       "4  after 12 years, this signature single malt by ...  single malt  700   \n",
       "\n",
       "     region                                            vintage  \\\n",
       "0     islay                             laphroaig quarter cask   \n",
       "1     islay           laphroaig 10 year old single malt whisky   \n",
       "2  highland  glenfarclas 15 year old single malt highland w...   \n",
       "3  highland  glenfarclas 12 year old single highland malt s...   \n",
       "4  speyside                                                 22   \n",
       "\n",
       "  standard_drinks alcohol_volumne   country  closure  \n",
       "0            26.5          48.00%  scotland     Cork  \n",
       "1              22          40.00%  scotland  unknown  \n",
       "2              25          46.00%       nan  unknown  \n",
       "3              24          43.00%  scotland  unknown  \n",
       "4          40.00%        Scotland  scotland     Cork  "
      ]
     },
     "execution_count": 22,
     "metadata": {},
     "output_type": "execute_result"
    }
   ],
   "source": [
    "whisky.head()"
   ]
  },
  {
   "cell_type": "code",
   "execution_count": 1567,
   "metadata": {},
   "outputs": [],
   "source": [
    "whisky.to_csv('./whisky.csv')"
   ]
  },
  {
   "cell_type": "code",
   "execution_count": 23,
   "metadata": {},
   "outputs": [],
   "source": [
    "whisky = pd.read_csv('./whisky.csv', index_col=0)"
   ]
  },
  {
   "cell_type": "markdown",
   "metadata": {},
   "source": [
    "data = whisky.drop(['links', 'region', 'vintage', 'standard_drinks', 'alcohol_volumne'], axis=1)"
   ]
  },
  {
   "cell_type": "code",
   "execution_count": 24,
   "metadata": {},
   "outputs": [
    {
     "ename": "NameError",
     "evalue": "name 'data' is not defined",
     "output_type": "error",
     "traceback": [
      "\u001b[0;31m---------------------------------------------------------------------------\u001b[0m",
      "\u001b[0;31mNameError\u001b[0m                                 Traceback (most recent call last)",
      "\u001b[0;32m<ipython-input-24-ca0773a91ad3>\u001b[0m in \u001b[0;36m<module>\u001b[0;34m\u001b[0m\n\u001b[0;32m----> 1\u001b[0;31m \u001b[0mdata\u001b[0m\u001b[0;34m.\u001b[0m\u001b[0mto_csv\u001b[0m\u001b[0;34m(\u001b[0m\u001b[0;34m'./data.csv'\u001b[0m\u001b[0;34m)\u001b[0m\u001b[0;34m\u001b[0m\u001b[0;34m\u001b[0m\u001b[0m\n\u001b[0m",
      "\u001b[0;31mNameError\u001b[0m: name 'data' is not defined"
     ]
    }
   ],
   "source": [
    "data.to_csv('./data.csv')"
   ]
  },
  {
   "cell_type": "code",
   "execution_count": 25,
   "metadata": {},
   "outputs": [],
   "source": [
    "data = pd.read_csv('./data.csv', index_col=0)"
   ]
  },
  {
   "cell_type": "code",
   "execution_count": 26,
   "metadata": {},
   "outputs": [],
   "source": [
    "data.dropna(inplace=True)"
   ]
  },
  {
   "cell_type": "code",
   "execution_count": 27,
   "metadata": {},
   "outputs": [
    {
     "data": {
      "text/plain": [
       "(404, 9)"
      ]
     },
     "execution_count": 27,
     "metadata": {},
     "output_type": "execute_result"
    }
   ],
   "source": [
    "data.shape"
   ]
  },
  {
   "cell_type": "markdown",
   "metadata": {},
   "source": [
    "## Exploratory Data Analysis"
   ]
  },
  {
   "cell_type": "code",
   "execution_count": 28,
   "metadata": {},
   "outputs": [
    {
     "data": {
      "text/html": [
       "<div>\n",
       "<style scoped>\n",
       "    .dataframe tbody tr th:only-of-type {\n",
       "        vertical-align: middle;\n",
       "    }\n",
       "\n",
       "    .dataframe tbody tr th {\n",
       "        vertical-align: top;\n",
       "    }\n",
       "\n",
       "    .dataframe thead th {\n",
       "        text-align: right;\n",
       "    }\n",
       "</style>\n",
       "<table border=\"1\" class=\"dataframe\">\n",
       "  <thead>\n",
       "    <tr style=\"text-align: right;\">\n",
       "      <th></th>\n",
       "      <th>name</th>\n",
       "      <th>description</th>\n",
       "      <th>price</th>\n",
       "      <th>product_details</th>\n",
       "      <th>variatal</th>\n",
       "      <th>size</th>\n",
       "      <th>country</th>\n",
       "      <th>closure</th>\n",
       "      <th>target</th>\n",
       "    </tr>\n",
       "  </thead>\n",
       "  <tbody>\n",
       "    <tr>\n",
       "      <td>0</td>\n",
       "      <td>laphroaig</td>\n",
       "      <td>quarter cask scotch whisky 700ml</td>\n",
       "      <td>84.95</td>\n",
       "      <td>the quarter cask is a strong, double cask matu...</td>\n",
       "      <td>single malt</td>\n",
       "      <td>700.0</td>\n",
       "      <td>scotland</td>\n",
       "      <td>cork</td>\n",
       "      <td>0</td>\n",
       "    </tr>\n",
       "    <tr>\n",
       "      <td>1</td>\n",
       "      <td>laphroaig</td>\n",
       "      <td>10 year old single malt scotch whisky 700ml</td>\n",
       "      <td>79.95</td>\n",
       "      <td>laphroaig, founded in 1815 by brothers donald ...</td>\n",
       "      <td>single malt</td>\n",
       "      <td>700.0</td>\n",
       "      <td>scotland</td>\n",
       "      <td>unknown</td>\n",
       "      <td>0</td>\n",
       "    </tr>\n",
       "    <tr>\n",
       "      <td>2</td>\n",
       "      <td>glenfarclas</td>\n",
       "      <td>15 year old single malt scotch whisky 700ml</td>\n",
       "      <td>109.95</td>\n",
       "      <td>15 year old single malt scotch whisky 700ml</td>\n",
       "      <td>single malt</td>\n",
       "      <td>700.0</td>\n",
       "      <td>scotland</td>\n",
       "      <td>unknown</td>\n",
       "      <td>1</td>\n",
       "    </tr>\n",
       "    <tr>\n",
       "      <td>3</td>\n",
       "      <td>glenfarclas</td>\n",
       "      <td>12 year old single malt scotch whisky 700ml</td>\n",
       "      <td>115.99</td>\n",
       "      <td>don't be fooled by the nose into thinking this...</td>\n",
       "      <td>single malt</td>\n",
       "      <td>700.0</td>\n",
       "      <td>scotland</td>\n",
       "      <td>unknown</td>\n",
       "      <td>1</td>\n",
       "    </tr>\n",
       "    <tr>\n",
       "      <td>4</td>\n",
       "      <td>glenfiddich</td>\n",
       "      <td>12 year old single malt scotch whisky 700ml</td>\n",
       "      <td>61.95</td>\n",
       "      <td>after 12 years, this signature single malt by ...</td>\n",
       "      <td>single malt</td>\n",
       "      <td>700.0</td>\n",
       "      <td>scotland</td>\n",
       "      <td>cork</td>\n",
       "      <td>0</td>\n",
       "    </tr>\n",
       "  </tbody>\n",
       "</table>\n",
       "</div>"
      ],
      "text/plain": [
       "          name                                  description   price  \\\n",
       "0    laphroaig             quarter cask scotch whisky 700ml   84.95   \n",
       "1    laphroaig  10 year old single malt scotch whisky 700ml   79.95   \n",
       "2  glenfarclas  15 year old single malt scotch whisky 700ml  109.95   \n",
       "3  glenfarclas  12 year old single malt scotch whisky 700ml  115.99   \n",
       "4  glenfiddich  12 year old single malt scotch whisky 700ml   61.95   \n",
       "\n",
       "                                     product_details     variatal   size  \\\n",
       "0  the quarter cask is a strong, double cask matu...  single malt  700.0   \n",
       "1  laphroaig, founded in 1815 by brothers donald ...  single malt  700.0   \n",
       "2        15 year old single malt scotch whisky 700ml  single malt  700.0   \n",
       "3  don't be fooled by the nose into thinking this...  single malt  700.0   \n",
       "4  after 12 years, this signature single malt by ...  single malt  700.0   \n",
       "\n",
       "    country  closure  target  \n",
       "0  scotland     cork       0  \n",
       "1  scotland  unknown       0  \n",
       "2  scotland  unknown       1  \n",
       "3  scotland  unknown       1  \n",
       "4  scotland     cork       0  "
      ]
     },
     "execution_count": 28,
     "metadata": {},
     "output_type": "execute_result"
    }
   ],
   "source": [
    "data.head()"
   ]
  },
  {
   "cell_type": "code",
   "execution_count": 29,
   "metadata": {},
   "outputs": [],
   "source": [
    "#data['price'] = data['price'].str.replace(',','')"
   ]
  },
  {
   "cell_type": "code",
   "execution_count": 30,
   "metadata": {},
   "outputs": [],
   "source": [
    "data['price'] = data['price'].astype(float)"
   ]
  },
  {
   "cell_type": "code",
   "execution_count": 31,
   "metadata": {},
   "outputs": [
    {
     "data": {
      "text/plain": [
       "<matplotlib.axes._subplots.AxesSubplot at 0x11a4aa410>"
      ]
     },
     "execution_count": 31,
     "metadata": {},
     "output_type": "execute_result"
    }
   ],
   "source": [
    "data['price'].plot(kind='hist', bins=50)"
   ]
  },
  {
   "cell_type": "code",
   "execution_count": 32,
   "metadata": {},
   "outputs": [
    {
     "name": "stdout",
     "output_type": "stream",
     "text": [
      "Minimun price:  42.9\n",
      "Max price:  60000.0\n",
      "Most common price:  0    99.99\n",
      "dtype: float64\n",
      "Average price:  1256.649331683167\n"
     ]
    }
   ],
   "source": [
    "print('Minimun price: ',data['price'].min())\n",
    "print('Max price: ',data['price'].max())\n",
    "print('Most common price: ',data['price'].mode())\n",
    "print('Average price: ',data['price'].mean())"
   ]
  },
  {
   "cell_type": "markdown",
   "metadata": {},
   "source": [
    "## Preprocessing"
   ]
  },
  {
   "cell_type": "code",
   "execution_count": 33,
   "metadata": {},
   "outputs": [],
   "source": [
    "# Setting up a target for logistic regression\n",
    "data['target'] = data['price'].map(lambda x: 1 if x > 150.0 else 0)"
   ]
  },
  {
   "cell_type": "code",
   "execution_count": 34,
   "metadata": {},
   "outputs": [
    {
     "data": {
      "text/html": [
       "<div>\n",
       "<style scoped>\n",
       "    .dataframe tbody tr th:only-of-type {\n",
       "        vertical-align: middle;\n",
       "    }\n",
       "\n",
       "    .dataframe tbody tr th {\n",
       "        vertical-align: top;\n",
       "    }\n",
       "\n",
       "    .dataframe thead th {\n",
       "        text-align: right;\n",
       "    }\n",
       "</style>\n",
       "<table border=\"1\" class=\"dataframe\">\n",
       "  <thead>\n",
       "    <tr style=\"text-align: right;\">\n",
       "      <th></th>\n",
       "      <th>name</th>\n",
       "      <th>description</th>\n",
       "      <th>price</th>\n",
       "      <th>product_details</th>\n",
       "      <th>variatal</th>\n",
       "      <th>size</th>\n",
       "      <th>country</th>\n",
       "      <th>closure</th>\n",
       "      <th>target</th>\n",
       "    </tr>\n",
       "  </thead>\n",
       "  <tbody>\n",
       "    <tr>\n",
       "      <td>0</td>\n",
       "      <td>laphroaig</td>\n",
       "      <td>quarter cask scotch whisky 700ml</td>\n",
       "      <td>84.95</td>\n",
       "      <td>the quarter cask is a strong, double cask matu...</td>\n",
       "      <td>single malt</td>\n",
       "      <td>700.0</td>\n",
       "      <td>scotland</td>\n",
       "      <td>cork</td>\n",
       "      <td>0</td>\n",
       "    </tr>\n",
       "    <tr>\n",
       "      <td>1</td>\n",
       "      <td>laphroaig</td>\n",
       "      <td>10 year old single malt scotch whisky 700ml</td>\n",
       "      <td>79.95</td>\n",
       "      <td>laphroaig, founded in 1815 by brothers donald ...</td>\n",
       "      <td>single malt</td>\n",
       "      <td>700.0</td>\n",
       "      <td>scotland</td>\n",
       "      <td>unknown</td>\n",
       "      <td>0</td>\n",
       "    </tr>\n",
       "    <tr>\n",
       "      <td>2</td>\n",
       "      <td>glenfarclas</td>\n",
       "      <td>15 year old single malt scotch whisky 700ml</td>\n",
       "      <td>109.95</td>\n",
       "      <td>15 year old single malt scotch whisky 700ml</td>\n",
       "      <td>single malt</td>\n",
       "      <td>700.0</td>\n",
       "      <td>scotland</td>\n",
       "      <td>unknown</td>\n",
       "      <td>0</td>\n",
       "    </tr>\n",
       "  </tbody>\n",
       "</table>\n",
       "</div>"
      ],
      "text/plain": [
       "          name                                  description   price  \\\n",
       "0    laphroaig             quarter cask scotch whisky 700ml   84.95   \n",
       "1    laphroaig  10 year old single malt scotch whisky 700ml   79.95   \n",
       "2  glenfarclas  15 year old single malt scotch whisky 700ml  109.95   \n",
       "\n",
       "                                     product_details     variatal   size  \\\n",
       "0  the quarter cask is a strong, double cask matu...  single malt  700.0   \n",
       "1  laphroaig, founded in 1815 by brothers donald ...  single malt  700.0   \n",
       "2        15 year old single malt scotch whisky 700ml  single malt  700.0   \n",
       "\n",
       "    country  closure  target  \n",
       "0  scotland     cork       0  \n",
       "1  scotland  unknown       0  \n",
       "2  scotland  unknown       0  "
      ]
     },
     "execution_count": 34,
     "metadata": {},
     "output_type": "execute_result"
    }
   ],
   "source": [
    "data.head(3)"
   ]
  },
  {
   "cell_type": "code",
   "execution_count": 35,
   "metadata": {},
   "outputs": [],
   "source": [
    "# Splitting up the target and features\n",
    "y = data['price'].values\n",
    "X = data['product_details']\n",
    "\n",
    "from sklearn.feature_extraction.text import CountVectorizer\n",
    "cvec = CountVectorizer(ngram_range=(1,3), stop_words='english')\n",
    "cvec.fit(X)\n",
    "X = pd.DataFrame(cvec.transform(X).todense(),\n",
    "                 columns=cvec.get_feature_names())\n",
    "\n",
    "from sklearn.model_selection import train_test_split\n",
    "X_train, X_test, y_train, y_test = train_test_split(X,y,train_size=0.8)"
   ]
  },
  {
   "cell_type": "markdown",
   "metadata": {},
   "source": [
    "## Modelling"
   ]
  },
  {
   "cell_type": "code",
   "execution_count": 36,
   "metadata": {},
   "outputs": [
    {
     "name": "stdout",
     "output_type": "stream",
     "text": [
      "[ 0.01961228  0.02651311  0.0813892  -0.03905933  0.18938726]\n",
      "-0.1812217412135797\n"
     ]
    }
   ],
   "source": [
    "# Trying Linear Regession\n",
    "from sklearn.linear_model import LinearRegression, LogisticRegression\n",
    "from sklearn.model_selection import cross_val_score\n",
    "\n",
    "lr = LinearRegression()\n",
    "score = cross_val_score(lr, X_train, y_train, cv=5)\n",
    "print(score)\n",
    "\n",
    "lr.fit(X_train, y_train)\n",
    "y_hat = lr.predict(X_test)\n",
    "print(lr.score(X_test, y_test))"
   ]
  },
  {
   "cell_type": "code",
   "execution_count": 37,
   "metadata": {},
   "outputs": [],
   "source": [
    "# Splitting up the target and features\n",
    "y = data['target'].values\n",
    "X = data['product_details']\n",
    "\n",
    "from sklearn.feature_extraction.text import CountVectorizer, TfidfVectorizer\n",
    "cvec = CountVectorizer(ngram_range=(1,3), stop_words='english')\n",
    "cvec.fit(X)\n",
    "X = pd.DataFrame(cvec.transform(X).todense(),\n",
    "                 columns=cvec.get_feature_names())\n",
    "\n",
    "from sklearn.model_selection import train_test_split\n",
    "X_train, X_test, y_train, y_test = train_test_split(X,y,train_size=0.8)"
   ]
  },
  {
   "cell_type": "code",
   "execution_count": 38,
   "metadata": {},
   "outputs": [
    {
     "name": "stdout",
     "output_type": "stream",
     "text": [
      "[0.56923077 0.58461538 0.6        0.625      0.65625   ]\n",
      "0.691358024691358\n"
     ]
    }
   ],
   "source": [
    "# Trying Logistic Regression\n",
    "log = LogisticRegression(solver='lbfgs')\n",
    "score = cross_val_score(log, X_train, y_train, cv=5)\n",
    "print(score)\n",
    "\n",
    "log.fit(X_train, y_train)\n",
    "y_hat = log.predict(X_test)\n",
    "print(log.score(X_test, y_test))"
   ]
  },
  {
   "cell_type": "code",
   "execution_count": 39,
   "metadata": {},
   "outputs": [
    {
     "data": {
      "text/plain": [
       "0.5"
      ]
     },
     "execution_count": 39,
     "metadata": {},
     "output_type": "execute_result"
    }
   ],
   "source": [
    "# baseline\n",
    "data['target'].value_counts(normalize=True)[0]"
   ]
  },
  {
   "cell_type": "code",
   "execution_count": 40,
   "metadata": {},
   "outputs": [
    {
     "name": "stdout",
     "output_type": "stream",
     "text": [
      "[0.50769231 0.66153846 0.52307692 0.5625     0.578125  ]\n",
      "0.6419753086419753\n"
     ]
    }
   ],
   "source": [
    "# Trying with Random Forest\n",
    "from sklearn.ensemble import RandomForestClassifier\n",
    "\n",
    "rfc = RandomForestClassifier(n_estimators=25, max_depth=12)\n",
    "score = cross_val_score(rfc, X_train, y_train, cv=5)\n",
    "print(score)\n",
    "\n",
    "rfc.fit(X_train, y_train)\n",
    "y_hat = rfc.predict(X_test)\n",
    "print(rfc.score(X_test, y_test))"
   ]
  },
  {
   "cell_type": "markdown",
   "metadata": {},
   "source": [
    "## Prediction Over/Under AUD $150"
   ]
  },
  {
   "cell_type": "code",
   "execution_count": 41,
   "metadata": {},
   "outputs": [
    {
     "data": {
      "text/plain": [
       "LogisticRegression(C=1.0, class_weight=None, dual=False, fit_intercept=True,\n",
       "                   intercept_scaling=1, l1_ratio=None, max_iter=100,\n",
       "                   multi_class='warn', n_jobs=None, penalty='l2',\n",
       "                   random_state=None, solver='lbfgs', tol=0.0001, verbose=0,\n",
       "                   warm_start=False)"
      ]
     },
     "execution_count": 41,
     "metadata": {},
     "output_type": "execute_result"
    }
   ],
   "source": [
    "# Model\n",
    "y = data['target'].values\n",
    "X = data['product_details']\n",
    "\n",
    "cvec = CountVectorizer(ngram_range=(1,3), stop_words='english')\n",
    "cvec.fit_transform(X)\n",
    "X_data = pd.DataFrame(cvec.transform(X).todense(),\n",
    "                      columns=cvec.get_feature_names())\n",
    "\n",
    "log = LogisticRegression(solver='lbfgs')\n",
    "\n",
    "log.fit(X_data,y)"
   ]
  },
  {
   "cell_type": "code",
   "execution_count": 45,
   "metadata": {},
   "outputs": [
    {
     "name": "stdin",
     "output_type": "stream",
     "text": [
      "Enter Description:   Suntory shines again! Of all the Hibiki bottles, the Hibiki 30 Year Old is the cream of the crop. It was awarded at the International Spirits Challenge in 2004, 2006, and 2008, and received the coveted title of “World’s Best Blended Whisky” at the World Whiskies Award in 2007 and 2008. Comprising of grain and malt whiskies aged for 30 years and over, a dram doesn’t get much better than this.\n"
     ]
    },
    {
     "name": "stdout",
     "output_type": "stream",
     "text": [
      "------------------------------------------------------------\n",
      "This Whisky is predicted to be valued at over AUD$150\n",
      "This is predicted with 0.74% acuracy\n"
     ]
    }
   ],
   "source": [
    "test = input('Enter Description: ')\n",
    "test = test.lower()\n",
    "\n",
    "test = [test]\n",
    "\n",
    "cvec.fit_transform(test)\n",
    "test_data = pd.DataFrame(cvec.transform(test).todense(),\n",
    "                      columns=cvec.get_feature_names())\n",
    "\n",
    "X_test = X_data[0:0]\n",
    "X_test = X_test.append(pd.Series(), ignore_index=True, sort=False)\n",
    "X_test = X_test.fillna(0)\n",
    "X_test = X_test.append(test_data, sort=False)\n",
    "X_test = X_test.sum(axis=0)\n",
    "X_test = X_test[0:32775]\n",
    "X_test = X_test.values\n",
    "X_test = X_test.reshape(1,-1)\n",
    "\n",
    "acuracy = log.predict_proba(X_test)\n",
    "acuracy = acuracy[0]\n",
    "result = log.predict(X_test)\n",
    "\n",
    "if result == 0:\n",
    "    print('-'*60)\n",
    "    print('This Whisky is predicted to be valued at under AUD$150')\n",
    "    print('This is predicted with {}% acuracy'.format(round(acuracy[0],2)))\n",
    "else:\n",
    "    print('-'*60)\n",
    "    print('This Whisky is predicted to be valued at over AUD$150')\n",
    "    print('This is predicted with {}% acuracy'.format(round(acuracy[1],2)))"
   ]
  },
  {
   "cell_type": "code",
   "execution_count": null,
   "metadata": {},
   "outputs": [],
   "source": []
  }
 ],
 "metadata": {
  "kernelspec": {
   "display_name": "Python 3",
   "language": "python",
   "name": "python3"
  },
  "language_info": {
   "codemirror_mode": {
    "name": "ipython",
    "version": 3
   },
   "file_extension": ".py",
   "mimetype": "text/x-python",
   "name": "python",
   "nbconvert_exporter": "python",
   "pygments_lexer": "ipython3",
   "version": "3.7.4"
  }
 },
 "nbformat": 4,
 "nbformat_minor": 4
}
